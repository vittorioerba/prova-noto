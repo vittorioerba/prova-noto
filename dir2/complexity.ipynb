{
 "cells": [
  {
   "cell_type": "code",
   "execution_count": 5,
   "metadata": {},
   "outputs": [],
   "source": [
    "include(\"replicas.jl\")\n",
    "include(\"data.jl\")\n",
    "using Plots, NLsolve",
    "#added from git"
   ]
  },
  {
   "cell_type": "code",
   "execution_count": 25,
   "metadata": {},
   "outputs": [
    {
     "data": {
      "text/plain": [
       "RSB1_SP_fixParisi (generic function with 1 method)"
      ]
     },
     "metadata": {},
     "output_type": "display_data"
    }
   ],
   "source": [
    "function RSB1_SP_fixParisi(β, h, m1; \n",
    "    init_m = 0.9,\n",
    "    init_q0 = 0.2,\n",
    "    init_q1 = 0.5,\n",
    "    damping = 0.5, maxsteps = 2000, \n",
    "    tol = 1e-8, verbose = false, verboseStep = 10)\n",
    "\n",
    "    x = [init_m, init_q0, init_q1]\n",
    "    xerror = 200.\n",
    "    rerror = 200.\n",
    "    for i in 1:maxsteps\n",
    "\n",
    "        updates = RSB1_updates(β, h, x..., m1)\n",
    "\n",
    "        xnew = [0., 0., 0.]\n",
    "        xnew[1] = damping * x[1] + (1-damping) * updates[1]\n",
    "        xnew[2] = damping * x[2] + (1-damping) * updates[2]\n",
    "        xnew[3] = damping * x[3] + (1-damping) * updates[3]\n",
    "\n",
    "        xerror = norm(xnew .- x)\n",
    "        rerror = RSB1_residuals(β, h, xnew..., m1)[1:3] |> norm\n",
    "\n",
    "        if verbose && i % verboseStep == 0\n",
    "            println([h, x..., m1, [xerror, rerror], i])\n",
    "        end\n",
    "\n",
    "        if max(xerror, rerror) < tol\n",
    "            return (h, x..., m1, [xerror, rerror], 1., i)\n",
    "        end\n",
    "\n",
    "        x = xnew\n",
    "    end\n",
    "    (h, x..., m1, [xerror, rerror], 0., maxsteps)\n",
    "end"
   ]
  },
  {
   "cell_type": "code",
   "execution_count": 26,
   "metadata": {},
   "outputs": [
    {
     "data": {
      "text/plain": [
       "RSB1_SP_fixM_fixParisi (generic function with 1 method)"
      ]
     },
     "metadata": {},
     "output_type": "display_data"
    }
   ],
   "source": [
    "function RSB1_SP_fixM_fixParisi(β, m_target, m1; \n",
    "    init_q0 = 0.2,\n",
    "    init_q1 = 0.5,\n",
    "    init_h = 0.,\n",
    "    damping = 0.5, maxsteps = 2000, \n",
    "    tol = 1e-8, verbose = false, verboseStep = 10,\n",
    "    hupdatestep = 1, hdamping = 0.5, hskip = true\n",
    "    )\n",
    "\n",
    "    x = [m_target, init_q0, init_q1, init_h]\n",
    "    xerror = 200.\n",
    "    rerror = 200.\n",
    "    merror = 200.\n",
    "\n",
    "    for i in 1:maxsteps\n",
    "\n",
    "        updates = RSB1_updates(β, x[4], m_target, x[2], x[3], m1)\n",
    "\n",
    "        xnew = [0., 0., 0., 0.]\n",
    "        xnew[1] = damping * x[1] + (1-damping) * updates[1]\n",
    "        xnew[2] = damping * x[2] + (1-damping) * updates[2]\n",
    "        xnew[3] = damping * x[3] + (1-damping) * updates[3]\n",
    "\n",
    "        uph =   try\n",
    "                    i % hupdatestep == 0 ? \n",
    "                        find_zero(h -> RSB1_eqH(β, h, m_target, xnew[2], xnew[3], m1), x[4]) : \n",
    "                        x[4]\n",
    "                catch\n",
    "                    verbose ? println(\"Failed in solving equation for h at iteration \", i) : Nothing\n",
    "                    if hskip\n",
    "                        up = x[4] + 0.1 * (rand()-0.5)\n",
    "                        up\n",
    "                    else\n",
    "                        return (x[4], m_target, x[2:3]..., m1, [xerror, rerror, merror], 0., i)\n",
    "                    end\n",
    "                end\n",
    "\n",
    "        xnew[4] = hdamping * x[4] + (1-hdamping) * uph\n",
    "\n",
    "        xerror = norm(xnew .- x)\n",
    "        merror = abs(m_target - x[1])\n",
    "        rerror = RSB1_residuals(β, xnew[4]..., m_target, xnew[2], xnew[3], m1)[1:3] |> norm\n",
    "\n",
    "        if verbose && i % verboseStep == 0\n",
    "            println([xnew[4], m_target, xnew[2:3]..., m1, [xerror, rerror, merror], i])\n",
    "        end\n",
    "\n",
    "        if max(xerror, merror, rerror) < tol\n",
    "            return (xnew[4], m_target, xnew[2:3]..., m1, [xerror, rerror, merror], 1., i)\n",
    "        end\n",
    "\n",
    "        x = xnew\n",
    "    end\n",
    "    (x[4], m_target, x[2:3]..., m1, [xerror, rerror, merror], 0., maxsteps)\n",
    "end"
   ]
  },
  {
   "cell_type": "code",
   "execution_count": 55,
   "metadata": {},
   "outputs": [
    {
     "data": {
      "text/plain": [
       "complexity (generic function with 1 method)"
      ]
     },
     "metadata": {},
     "output_type": "display_data"
    }
   ],
   "source": [
    "function complexity(beta, m; \n",
    "    tol = 1e-10, damping = 0.1, hupdatestep = 1, hdamping = 0.1, verbose = false, \n",
    "    init_q0 = 0.1, init_q1 = 0.9, init_h = 0., maxsteps = 500, m1 = 0.99)\n",
    "\n",
    "    res = RSB1_SP_fixM_fixParisi(\n",
    "        beta, m, m1, \n",
    "        init_h = init_h, init_q0 = init_q0, init_q1 = init_q1,\n",
    "        damping = damping, tol = tol, hupdatestep = hupdatestep, hdamping = hdamping, verbose = verbose) \n",
    "\n",
    "    params = [beta, res[1], m, res[3], res[4], 1.]\n",
    "    eqm1 = RSB1_eqM1(params...)\n",
    "    fstar = RSB1_freeEntropy(params...) + eqm1\n",
    "    sigma = - eqm1\n",
    "    (fstar, sigma, res)\n",
    "end"
   ]
  },
  {
   "cell_type": "code",
   "execution_count": 68,
   "metadata": {},
   "outputs": [
    {
     "data": {
      "text/plain": [
       "(-0.05831141344696467, 0.0005762209339854399, (-0.4180860037247185, 0.02, 0.0006269828104903909, 0.009985250241274161, 0.99, [9.341716371383562e-7, 9.779797485145713e-7, 5.4827653563072065e-9], 1.0, 84))"
      ]
     },
     "metadata": {},
     "output_type": "display_data"
    }
   ],
   "source": [
    "complexity(28., 0.02, tol = 1e-6)"
   ]
  },
  {
   "cell_type": "code",
   "execution_count": 93,
   "metadata": {},
   "outputs": [
    {
     "data": {
      "text/plain": [
       "complexity_solver (generic function with 1 method)"
      ]
     },
     "metadata": {},
     "output_type": "display_data"
    }
   ],
   "source": [
    "function complexity_solver(beta, m; uptol = 1e-8,\n",
    "    rtol = 1e-5, xtol = 1e-10, init_h = 0., init_q0 = 1.01 * m^2, init_q1 = 0.99 * m, verbose = false, m1 = 1.)\n",
    "\n",
    "    initial_residuals = RSB1_updates(beta, init_h, m, init_q0, init_q1, m1, tol = uptol) - [m, init_q0, init_q1]\n",
    "\n",
    "    ftol = min(xtol, rtol * norm(initial_residuals))\n",
    "\n",
    "    function f!(F, x)\n",
    "        h, q0, q1 = x\n",
    "        F[1], F[2], F[3] = RSB1_updates(beta, h, m, q0, q1, m1, tol = uptol) - [m, q0, q1]\n",
    "    end\n",
    "\n",
    "    solver = mcpsolve(f!, [-Inf, m^2, m^2], [+Inf, m, m], [init_h, init_q0, init_q1], xtol = xtol, ftol = ftol, show_trace = verbose, extended_trace = verbose)\n",
    "    eqm1 = RSB1_eqM1(beta, solver.zero[1], m, solver.zero[2], solver.zero[3], 1., tol = uptol)\n",
    "    \n",
    "\n",
    "    eqm1, solver\n",
    "end"
   ]
  },
  {
   "cell_type": "code",
   "execution_count": 96,
   "metadata": {},
   "outputs": [
    {
     "data": {
      "text/plain": [
       "(-0.0022142569275874317, Results of Nonlinear Solver Algorithm\n",
       " * Algorithm: Trust-region with dogleg and autoscaling\n",
       " * Starting Point: [0.0, 0.000404, 0.0198]\n",
       " * Zero: [-0.41718173548540877, 0.000399993509164014, 0.02]\n",
       " * Inf-norm of residuals: 0.000000\n",
       " * Iterations: 38\n",
       " * Convergence: true\n",
       "   * |x - x'| < 1.0e-05: true\n",
       "   * |f(x)| < 1.7e-10: false\n",
       " * Function Calls (f): 38\n",
       " * Jacobian Calls (df/dx): 14)"
      ]
     },
     "metadata": {},
     "output_type": "display_data"
    }
   ],
   "source": [
    "complexity_solver(28., 0.02, rtol = 1e-10, xtol = 1e-5, m1 = 0.99)"
   ]
  },
  {
   "cell_type": "code",
   "execution_count": 85,
   "metadata": {},
   "outputs": [
    {
     "data": {
      "text/plain": [
       "4-element Vector{Float64}:\n",
       " 0.0008158617113600448\n",
       " 6.869497950266648e-5\n",
       " 0.0005759794179719807\n",
       " 0.000150754902062053"
      ]
     },
     "metadata": {},
     "output_type": "display_data"
    }
   ],
   "source": [
    "RSB1_residuals(28., -0.4171, 0.02, 0.0006, 0.0099, 1.)"
   ]
  },
  {
   "cell_type": "markdown",
   "metadata": {},
   "source": [
    "---"
   ]
  },
  {
   "cell_type": "code",
   "execution_count": 12,
   "metadata": {},
   "outputs": [
    {
     "data": {
      "text/plain": [
       "2-element Vector{Vector{Float64}}:\n",
       " [0.99, 0.98, 0.97, 0.96, 0.95, 0.94, 0.93, 0.92, 0.91, 0.9  …  0.0001, 9.0e-5, 8.0e-5, 7.0e-5, 6.0e-5, 5.0e-5, 4.0e-5, 3.0e-5, 2.0e-5, 1.0e-5]\n",
       " [450.060658066837, 120.07026391734883, 86.86214497994699, 68.2308505590221, 56.7092723177808, 48.83507209384861, 43.08994317715906, 38.70016299477827, 35.22868801505515, 32.4094523208558  …  945.348444890645, 1003.9172262749337, 1073.5653711644864, 1158.2116121899555, 1264.0155175188256, 1401.3373865307285, 1589.2919224985171, 1868.234248810775, 2344.1189418336326, 3446.6155869670624]"
      ]
     },
     "metadata": {},
     "output_type": "display_data"
    }
   ],
   "source": [
    "ms, bs = hcat(sort(readdlm(\"data_RSstability_beta_crit.csv\", '|', header = true)[1] |> myeachrow, by = first, rev = true)...) |> myeachrow"
   ]
  },
  {
   "cell_type": "code",
   "execution_count": 13,
   "metadata": {},
   "outputs": [],
   "source": [
    "c 3 omplexity(0.99, 450.06)"
   ]
  },
  {
   "cell_type": "markdown",
   "metadata": {},
   "source": [
    "---"
   ]
  },
  {
   "cell_type": "markdown",
   "metadata": {},
   "source": [
    "## Complexity"
   ]
  },
  {
   "cell_type": "code",
   "execution_count": 5,
   "metadata": {},
   "outputs": [
    {
     "data": {
      "text/plain": [
       "\"data_complexity.csv\""
      ]
     },
     "metadata": {},
     "output_type": "display_data"
    }
   ],
   "source": [
    "datacomplexity = \"data_complexity.csv\""
   ]
  },
  {
   "cell_type": "code",
   "execution_count": 6,
   "metadata": {},
   "outputs": [],
   "source": [
    "# header = \"Type|Beta|Complexity|hCRSB1/hTarget|mCRSB1/mTarget|q0CRSB1|q1CRSB1|errorsRSB1|hRS/hTarget|mRS/mTarget|qRS|errorsRS\"\n",
    "# appendData(datacomplexity, header)"
   ]
  },
  {
   "cell_type": "code",
   "execution_count": 7,
   "metadata": {},
   "outputs": [
    {
     "data": {
      "text/plain": [
       "complexityComputation (generic function with 1 method)"
      ]
     },
     "metadata": {},
     "output_type": "display_data"
    }
   ],
   "source": [
    "function complexityComputation(beta, m, init, tol)\n",
    "    comp = complexity(beta, m, tol = tol, init_h = init[1], init_q0 = init[2], init_q1 = init[3])\n",
    "    rsb1c = comp[3]\n",
    "    c = comp[2]\n",
    "    rs = RS_SP_fixM(beta, m)\n",
    "    result = [ \"C\", beta, c, rsb1c[1:4]..., rsb1c[6], rs[1:4]...]\n",
    "    result\n",
    "end"
   ]
  },
  {
   "cell_type": "code",
   "execution_count": 94,
   "metadata": {},
   "outputs": [
    {
     "data": {
      "text/plain": [
       "12-element Vector{Any}:\n",
       "   \"C\"\n",
       " 40.0\n",
       "  4.866933522862382e-10\n",
       "  1.5497831097222599\n",
       "  0.95\n",
       "  0.9473538077891281\n",
       "  0.9473558437046773\n",
       "   [7.367084498526259e-7, 6.014364577615962e-7, 7.547509284222542e-10]\n",
       "  1.5497831148736645\n",
       "  0.95\n",
       "  0.947353807934261\n",
       "   [6.095526229111935e-11, 3.2807090377673376e-13, 4.4997339188057595e-13]"
      ]
     },
     "metadata": {},
     "output_type": "display_data"
    }
   ],
   "source": [
    "m = 0.95\n",
    "complexityComputation(40., m, [-0.05,1.3e-8,m * 0.99], 1e-6)"
   ]
  },
  {
   "cell_type": "code",
   "execution_count": 91,
   "metadata": {},
   "outputs": [
    {
     "data": {
      "text/plain": [
       "0.0001"
      ]
     },
     "metadata": {},
     "output_type": "display_data"
    }
   ],
   "source": [
    "init = [-0.04535039999987845,1.003618846673002e-8,8.557974994238497e-5]\n",
    "bs = linspace(599.5, 550., 60)\n",
    "m = 0.0001"
   ]
  },
  {
   "cell_type": "code",
   "execution_count": 92,
   "metadata": {},
   "outputs": [
    {
     "name": "stdout",
     "output_type": "stream",
     "text": [
      "599.5\n"
     ]
    },
    {
     "name": "stdout",
     "output_type": "stream",
     "text": [
      "598.6610169491526\n"
     ]
    },
    {
     "name": "stdout",
     "output_type": "stream",
     "text": [
      "597.8220338983051\n"
     ]
    },
    {
     "name": "stdout",
     "output_type": "stream",
     "text": [
      "596.9830508474577\n"
     ]
    },
    {
     "name": "stdout",
     "output_type": "stream",
     "text": [
      "596.1440677966102\n"
     ]
    },
    {
     "name": "stdout",
     "output_type": "stream",
     "text": [
      "595.3050847457627\n"
     ]
    },
    {
     "name": "stdout",
     "output_type": "stream",
     "text": [
      "594.4661016949152\n"
     ]
    },
    {
     "name": "stdout",
     "output_type": "stream",
     "text": [
      "593.6271186440678\n"
     ]
    },
    {
     "name": "stdout",
     "output_type": "stream",
     "text": [
      "592.7881355932203\n"
     ]
    },
    {
     "name": "stdout",
     "output_type": "stream",
     "text": [
      "591.9491525423729\n"
     ]
    },
    {
     "name": "stdout",
     "output_type": "stream",
     "text": [
      "591.1101694915254\n"
     ]
    },
    {
     "name": "stdout",
     "output_type": "stream",
     "text": [
      "590.271186440678\n"
     ]
    },
    {
     "name": "stdout",
     "output_type": "stream",
     "text": [
      "589.4322033898305\n"
     ]
    },
    {
     "name": "stdout",
     "output_type": "stream",
     "text": [
      "588.5932203389831\n"
     ]
    },
    {
     "name": "stdout",
     "output_type": "stream",
     "text": [
      "587.7542372881356\n"
     ]
    },
    {
     "name": "stdout",
     "output_type": "stream",
     "text": [
      "586.9152542372881\n"
     ]
    },
    {
     "name": "stdout",
     "output_type": "stream",
     "text": [
      "586.0762711864406\n"
     ]
    },
    {
     "name": "stdout",
     "output_type": "stream",
     "text": [
      "585.2372881355932\n"
     ]
    },
    {
     "name": "stdout",
     "output_type": "stream",
     "text": [
      "584.3983050847457\n"
     ]
    },
    {
     "name": "stdout",
     "output_type": "stream",
     "text": [
      "583.5593220338983\n"
     ]
    },
    {
     "name": "stdout",
     "output_type": "stream",
     "text": [
      "582.7203389830509\n"
     ]
    },
    {
     "name": "stdout",
     "output_type": "stream",
     "text": [
      "581.8813559322034\n"
     ]
    },
    {
     "name": "stdout",
     "output_type": "stream",
     "text": [
      "581.042372881356\n"
     ]
    },
    {
     "name": "stdout",
     "output_type": "stream",
     "text": [
      "580.2033898305085\n"
     ]
    },
    {
     "name": "stdout",
     "output_type": "stream",
     "text": [
      "579.3644067796611\n"
     ]
    },
    {
     "name": "stdout",
     "output_type": "stream",
     "text": [
      "578.5254237288135\n"
     ]
    },
    {
     "name": "stdout",
     "output_type": "stream",
     "text": [
      "577.6864406779661\n"
     ]
    },
    {
     "name": "stdout",
     "output_type": "stream",
     "text": [
      "576.8474576271186\n"
     ]
    },
    {
     "name": "stdout",
     "output_type": "stream",
     "text": [
      "576.0084745762712\n"
     ]
    },
    {
     "name": "stdout",
     "output_type": "stream",
     "text": [
      "575.1694915254237\n"
     ]
    },
    {
     "name": "stdout",
     "output_type": "stream",
     "text": [
      "574.3305084745763\n"
     ]
    },
    {
     "name": "stdout",
     "output_type": "stream",
     "text": [
      "573.4915254237288\n"
     ]
    },
    {
     "name": "stdout",
     "output_type": "stream",
     "text": [
      "572.6525423728814\n"
     ]
    },
    {
     "name": "stdout",
     "output_type": "stream",
     "text": [
      "571.8135593220339\n"
     ]
    },
    {
     "name": "stdout",
     "output_type": "stream",
     "text": [
      "570.9745762711865\n"
     ]
    },
    {
     "name": "stdout",
     "output_type": "stream",
     "text": [
      "570.1355932203389\n"
     ]
    },
    {
     "name": "stdout",
     "output_type": "stream",
     "text": [
      "569.2966101694915\n"
     ]
    },
    {
     "name": "stdout",
     "output_type": "stream",
     "text": [
      "568.457627118644\n"
     ]
    },
    {
     "name": "stdout",
     "output_type": "stream",
     "text": [
      "567.6186440677966\n"
     ]
    },
    {
     "name": "stdout",
     "output_type": "stream",
     "text": [
      "566.7796610169491\n"
     ]
    },
    {
     "name": "stdout",
     "output_type": "stream",
     "text": [
      "565.9406779661017\n"
     ]
    },
    {
     "name": "stdout",
     "output_type": "stream",
     "text": [
      "565.1016949152543\n"
     ]
    },
    {
     "name": "stdout",
     "output_type": "stream",
     "text": [
      "564.2627118644068\n"
     ]
    },
    {
     "name": "stdout",
     "output_type": "stream",
     "text": [
      "563.4237288135594\n"
     ]
    },
    {
     "name": "stdout",
     "output_type": "stream",
     "text": [
      "562.5847457627119\n"
     ]
    },
    {
     "name": "stdout",
     "output_type": "stream",
     "text": [
      "561.7457627118644\n"
     ]
    },
    {
     "name": "stdout",
     "output_type": "stream",
     "text": [
      "560.9067796610169\n"
     ]
    },
    {
     "name": "stdout",
     "output_type": "stream",
     "text": [
      "560.0677966101695\n"
     ]
    },
    {
     "name": "stdout",
     "output_type": "stream",
     "text": [
      "559.228813559322\n"
     ]
    },
    {
     "name": "stdout",
     "output_type": "stream",
     "text": [
      "558.3898305084746\n"
     ]
    },
    {
     "name": "stdout",
     "output_type": "stream",
     "text": [
      "557.5508474576271\n"
     ]
    },
    {
     "name": "stdout",
     "output_type": "stream",
     "text": [
      "556.7118644067797\n"
     ]
    },
    {
     "name": "stdout",
     "output_type": "stream",
     "text": [
      "555.8728813559322\n"
     ]
    },
    {
     "name": "stdout",
     "output_type": "stream",
     "text": [
      "555.0338983050848\n"
     ]
    },
    {
     "name": "stdout",
     "output_type": "stream",
     "text": [
      "554.1949152542373\n"
     ]
    },
    {
     "name": "stdout",
     "output_type": "stream",
     "text": [
      "553.3559322033898\n"
     ]
    },
    {
     "name": "stdout",
     "output_type": "stream",
     "text": [
      "552.5169491525423\n"
     ]
    },
    {
     "name": "stdout",
     "output_type": "stream",
     "text": [
      "551.6779661016949\n"
     ]
    },
    {
     "name": "stdout",
     "output_type": "stream",
     "text": [
      "550.8389830508474\n"
     ]
    },
    {
     "name": "stdout",
     "output_type": "stream",
     "text": [
      "550.0\n"
     ]
    }
   ],
   "source": [
    "for b in bs\n",
    "    println(b); flush(stdout);\n",
    "    res = complexityComputation(b, m, init, 1e-10)\n",
    "    init = res[[4, 6, 7]]\n",
    "    appendData(datacomplexity, res)\n",
    "end"
   ]
  },
  {
   "cell_type": "markdown",
   "metadata": {},
   "source": [
    "# Plot from file"
   ]
  },
  {
   "cell_type": "code",
   "execution_count": 216,
   "metadata": {},
   "outputs": [
    {
     "data": {
      "text/plain": [
       "plot_complexity_h (generic function with 1 method)"
      ]
     },
     "metadata": {},
     "output_type": "display_data"
    }
   ],
   "source": [
    "function plot_complexity_h(datafile, m0)\n",
    "    data, _ = readDataComplexity(datafile)\n",
    "\n",
    "    ms = getindex.(data, 5)\n",
    "    m = findnearest(ms, m0)\n",
    "    dataFiltered = filter(x -> x[1] == \"C\" && abs(x[5] - m) < 1e-4 , data)\n",
    "\n",
    "    if length(dataFiltered) == 0\n",
    "        error(\"m = \", m, \" not found in M data\")\n",
    "    end\n",
    "    \n",
    "    ws = sort(dataFiltered, by = x -> x[2])\n",
    "    bs = getindex.(ws, 2)\n",
    "\n",
    "    cs = getindex.(ws, 3)\n",
    "\n",
    "\n",
    "    hs  = getindex.(ws, 4)\n",
    "    q0s = getindex.(ws, 6)\n",
    "    q1s = getindex.(ws, 7)\n",
    "    \n",
    "    hsRS = getindex.(ws, 9)\n",
    "    qsRS = getindex.(ws, 11)\n",
    "\n",
    "    p = plot(legend = :bottomleft, xlabel = \"β\", ylabel = \"order parameters\", \n",
    "        title = string(\"\\nComplexity at m1 = 1 for m = \", m), \n",
    "            yscale = :log10,\n",
    "            xlim = (min(bs...), max(bs...)),\n",
    "            ylim = (0.9*m^2, 1.1*m), \n",
    "            size = (800, 500), \n",
    "            right_margin = 15Plots.mm, left_margin = 5Plots.mm, \n",
    "            bottom_margin = 5Plots.mm, top_margin = 7Plots.mm)\n",
    "\n",
    "    plot!(twinx(p), bs, cs, ylim = :auto, label = \"complexity\", ylabel = \"complexity\", \n",
    "        legend = :topleft, color = :black,\n",
    "        xlim = (min(bs...), max(bs...)), \n",
    "        grid = true\n",
    "    ) \n",
    "    # hline!(twinx(p), [0.])\n",
    "\n",
    "    # # plot!(p, bs, msRS, label = \"m RS\")\n",
    "    plot!(p, bs, qsRS, label = \"q RS\")\n",
    "\n",
    "    # # plot!(p, bs, hs, label = \"h\")\n",
    "    plot!(p, bs, q0s, label = \"q0\")\n",
    "    plot!(p, bs, q1s, label = \"q1\")\n",
    "\n",
    "    vline!([44.3])\n",
    "    p\n",
    "end"
   ]
  },
  {
   "cell_type": "code",
   "execution_count": null,
   "metadata": {},
   "outputs": [],
   "source": [
    "p = plot_complexity_h(datacomplexity, 0.05)"
   ]
  },
  {
   "cell_type": "code",
   "execution_count": 197,
   "metadata": {},
   "outputs": [],
   "source": [
    "savefig(p, \"plots/complexity_m0.01.pdf\")"
   ]
  },
  {
   "cell_type": "markdown",
   "metadata": {},
   "source": [
    "## OLD"
   ]
  },
  {
   "cell_type": "code",
   "execution_count": 157,
   "metadata": {},
   "outputs": [
    {
     "ename": "InterruptException",
     "evalue": "InterruptException:",
     "output_type": "error",
     "traceback": [
      "InterruptException:\n",
      "\n",
      "Stacktrace:\n",
      "  [1] setindex!\n",
      "    @ ./essentials.jl:479 [inlined]\n",
      "  [2] setindex!\n",
      "    @ ./subarray.jl:341 [inlined]\n",
      "  [3] fill!\n",
      "    @ ./multidimensional.jl:1064 [inlined]\n",
      "  [4] __cat_offset1!\n",
      "    @ ./abstractarray.jl:1733 [inlined]\n",
      "  [5] __cat_offset!\n",
      "    @ ./abstractarray.jl:1721 [inlined]\n",
      "  [6] __cat_offset!(A::Vector{Any}, shape::Tuple{Int64}, catdims::Tuple{Bool}, offsets::Tuple{Int64}, x::Vector{Any}, X::Float64) (repeats 2 times)\n",
      "    @ Base ./abstractarray.jl:1722\n",
      "  [7] __cat\n",
      "    @ ./abstractarray.jl:1717 [inlined]\n",
      "  [8] _cat_t\n",
      "    @ ./abstractarray.jl:1713 [inlined]\n",
      "  [9] #cat_t#136\n",
      "    @ ./abstractarray.jl:1705 [inlined]\n",
      " [10] _cat\n",
      "    @ ./abstractarray.jl:1703 [inlined]\n",
      " [11] #cat#141\n",
      "    @ ./abstractarray.jl:1861 [inlined]\n",
      " [12] vcat\n",
      "    @ ./abstractarray.jl:1772 [inlined]\n",
      " [13] #integrator#17\n",
      "    @ ~/Library/CloudStorage/OneDrive-epfl.ch/my/phys_maxAvgMat/RSB/replicas.jl:30 [inlined]\n",
      " [14] RSB1_eqM1(β::Float64, h::Float64, m::Float64, q0::Float64, q1::Float64, m1::Float64; tol::Float64)\n",
      "    @ Main ~/Library/CloudStorage/OneDrive-epfl.ch/my/phys_maxAvgMat/RSB/replicas.jl:222\n",
      " [15] RSB1_residuals(β::Float64, h::Float64, m::Float64, q0::Float64, q1::Float64, m1::Float64)\n",
      "    @ Main ~/Library/CloudStorage/OneDrive-epfl.ch/my/phys_maxAvgMat/RSB/replicas.jl:230\n",
      " [16] RSB1_SP_fixM_fixParisi(β::Float64, m_target::Float64, m1::Float64; init_q0::Float64, init_q1::Float64, init_h::Float64, damping::Float64, maxsteps::Int64, tol::Float64, verbose::Bool, verboseStep::Int64, hupdatestep::Int64, hdamping::Float64, hskip::Bool)\n",
      "    @ Main ~/Library/CloudStorage/OneDrive-epfl.ch/my/phys_maxAvgMat/RSB/complexity.ipynb:42\n",
      " [17] complexity(beta::Float64, m::Float64; tol::Float64, damping::Float64, hupdatestep::Int64, hdamping::Float64, verbose::Bool, init_q0::Float64, init_q1::Float64, init_h::Float64)\n",
      "    @ Main ~/Library/CloudStorage/OneDrive-epfl.ch/my/phys_maxAvgMat/RSB/complexity.ipynb:5\n",
      " [18] eval\n",
      "    @ ./boot.jl:373 [inlined]\n",
      " [19] include_string(mapexpr::typeof(REPL.softscope), mod::Module, code::String, filename::String)\n",
      "    @ Base ./loading.jl:1196\n",
      " [20] #invokelatest#2\n",
      "    @ ./essentials.jl:716 [inlined]\n",
      " [21] invokelatest\n",
      "    @ ./essentials.jl:714 [inlined]\n",
      " [22] (::VSCodeServer.var\"#198#199\"{VSCodeServer.NotebookRunCellArguments, String})()\n",
      "    @ VSCodeServer ~/.vscode/extensions/julialang.language-julia-1.38.2/scripts/packages/VSCodeServer/src/serve_notebook.jl:19\n",
      " [23] withpath(f::VSCodeServer.var\"#198#199\"{VSCodeServer.NotebookRunCellArguments, String}, path::String)\n",
      "    @ VSCodeServer ~/.vscode/extensions/julialang.language-julia-1.38.2/scripts/packages/VSCodeServer/src/repl.jl:249\n",
      " [24] notebook_runcell_request(conn::VSCodeServer.JSONRPC.JSONRPCEndpoint{Base.PipeEndpoint, Base.PipeEndpoint}, params::VSCodeServer.NotebookRunCellArguments)\n",
      "    @ VSCodeServer ~/.vscode/extensions/julialang.language-julia-1.38.2/scripts/packages/VSCodeServer/src/serve_notebook.jl:13\n",
      " [25] dispatch_msg(x::VSCodeServer.JSONRPC.JSONRPCEndpoint{Base.PipeEndpoint, Base.PipeEndpoint}, dispatcher::VSCodeServer.JSONRPC.MsgDispatcher, msg::Dict{String, Any})\n",
      "    @ VSCodeServer.JSONRPC ~/.vscode/extensions/julialang.language-julia-1.38.2/scripts/packages/JSONRPC/src/typed.jl:67\n",
      " [26] serve_notebook(pipename::String, outputchannel_logger::Base.CoreLogging.SimpleLogger; crashreporting_pipename::String)\n",
      "    @ VSCodeServer ~/.vscode/extensions/julialang.language-julia-1.38.2/scripts/packages/VSCodeServer/src/serve_notebook.jl:139\n",
      " [27] top-level scope\n",
      "    @ ~/.vscode/extensions/julialang.language-julia-1.38.2/scripts/notebook/notebook.jl:32"
     ]
    }
   ],
   "source": [
    "complexity(50., 0.01, tol = 1e-10, verbose = false, init_h = init[1], init_q0 = init[2], init_q1 = init[3])"
   ]
  },
  {
   "cell_type": "code",
   "execution_count": 113,
   "metadata": {},
   "outputs": [
    {
     "data": {
      "text/plain": [
       "0.1"
      ]
     },
     "metadata": {},
     "output_type": "display_data"
    }
   ],
   "source": [
    "init = [-0.67, 0.01, 0.1]\n",
    "res = []\n",
    "m = 0.1"
   ]
  },
  {
   "cell_type": "code",
   "execution_count": 133,
   "metadata": {},
   "outputs": [
    {
     "name": "stdout",
     "output_type": "stream",
     "text": [
      "11.9|0.043232072346633926|0.06267601302243127|(-0.6656328417920019, 0.043232072346633926, 0.06267601302243127, 1.0)\n",
      "11.8|0.042712462187216145|0.06164411443227327|(-0.6654610130796703, 0.042712462187216145, 0.06164411443227327, 1.0)\n",
      "11.7|0.042185872541696076|0.06056869793815413|(-0.6652819904876641, 0.042185872541696076, 0.06056869793815413, 1.0)\n",
      "11.6|0.04165233184205587|0.05944671907368884|(-0.665095373292818, 0.04165233184205587, 0.05944671907368884, 1.0)\n",
      "11.5|0.04111188731454162|0.05827477394972058|(-0.6649007416264449, 0.04111188731454162, 0.05827477394972058, 1.0)\n",
      "11.4|0.04056460715161207|0.057049032730289925|(-0.6646976566178008, 0.04056460715161207, 0.057049032730289925, 1.0)\n",
      "11.3|0.0400105828267544|0.055765154799816974|(-0.664485660880044, 0.0400105828267544, 0.055765154799816974, 1.0)\n",
      "11.2|0.03944993159584188|0.0544181791317769|(-0.6642642793087824, 0.03944993159584188, 0.0544181791317769, 1.0)\n",
      "11.1|0.038882799150779745|0.05300238123894378|(-0.6640330203405163, 0.038882799150779745, 0.05300238123894378, 1.0)\n",
      "11.0|0.03830936242612361|0.05151108092020508|(-0.6637913777290565, 0.03830936242612361, 0.05151108092020508, 1.0)\n",
      "10.9|0.0377298325278626|0.04993637834025562|(-0.6635388330001505, 0.0377298325278626, 0.04993637834025562, 1.0)\n",
      "10.8|0.03714445777655729|0.04826878314875679|(-0.6632748586064982, 0.03714445777655729, 0.04826878314875679, 1.0)\n",
      "10.7|0.03655352681242797|0.046496675093913496|(-0.662998921988085, 0.03655352681242797, 0.046496675093913496, 1.0)\n",
      "10.6|0.03595737169776872|0.04460547903486656|(-0.6627104907421177, 0.03595737169776872, 0.04460547903486656, 1.0)\n",
      "10.5|0.035356370999604765|0.042576394545829975|(-0.6624090388384406, 0.035356370999604765, 0.042576394545829975, 1.0)\n",
      "10.4|0.03475095271394529|0.04038419931300922|(-0.6620940542999663, 0.03475095271394529, 0.04038419931300922, 1.0)\n",
      "10.3|0.034141596970827755|0.03799335793189759|(-0.661765048358031, 0.034141596970827755, 0.03799335793189759, 1.0)\n",
      "10.2|0.03352883838388425|0.035350219202329|(-0.6614215662950284, 0.03352883838388425, 0.035350219202329, 1.0)\n",
      "10.1|0.03291326792666057|0.03291473682338566|(-0.6610632000721325, 0.03291326792666057, 0.03291473682338566, 0.0)\n",
      "10.0|0.032295534156436455|0.03229554107477369|(-0.6606896029635557, 0.032295534156436455, 0.03229554107477369, 1.0)\n"
     ]
    }
   ],
   "source": [
    "for b in linspace(11.9, 10., 20)\n",
    "    comp = complexity(b, m, tol = 1e-10, verbose = false, init_h = init[1], init_q0 = init[2], init_q1 = init[3])\n",
    "    init = [comp[3]...]\n",
    "    println(b, \"|\", init[2], \"|\", init[3], \"|\", comp[end])\n",
    "    push!(res, [b, comp[2]])\n",
    "end"
   ]
  },
  {
   "cell_type": "code",
   "execution_count": 136,
   "metadata": {},
   "outputs": [
    {
     "data": {
      "image/png": "[encoded data removed]",
      "image/svg+xml": "<?xml version=\"1.0\" encoding=\"utf-8\"?>\n<svg xmlns=\"http://www.w3.org/2000/svg\" xmlns:xlink=\"http://www.w3.org/1999/xlink\" width=\"600\" height=\"400\" viewBox=\"0 0 2400 1600\">\n<defs>\n  <clipPath id=\"clip250\">\n    <rect x=\"0\" y=\"0\" width=\"2400\" height=\"1600\"/>\n  </clipPath>\n</defs>\n<path clip-path=\"url(#clip250)\" d=\"\nM0 1600 L2400 1600 L2400 0 L0 0  Z\n  \" fill=\"#ffffff\" fill-rule=\"evenodd\" fill-opacity=\"1\"/>\n<defs>\n  <clipPath id=\"clip251\">\n    <rect x=\"480\" y=\"0\" width=\"1681\" height=\"1600\"/>\n  </clipPath>\n</defs>\n<path clip-path=\"url(#clip250)\" d=\"\nM223.45 1486.45 L2352.76 1486.45 L2352.76 47.2441 L223.45 47.2441  Z\n  \" fill=\"#ffffff\" fill-rule=\"evenodd\" fill-opacity=\"1\"/>\n<defs>\n  <clipPath id=\"clip252\">\n    <rect x=\"223\" y=\"47\" width=\"2130\" height=\"1440\"/>\n  </clipPath>\n</defs>\n<polyline clip-path=\"url(#clip252)\" style=\"stroke:#000000; stroke-linecap:butt; stroke-linejoin:round; stroke-width:2; stroke-opacity:0.1; fill:none\" points=\"\n  283.713,1486.45 283.713,47.2441 \n  \"/>\n<polyline clip-path=\"url(#clip252)\" style=\"stroke:#000000; stroke-linecap:butt; stroke-linejoin:round; stroke-width:2; stroke-opacity:0.1; fill:none\" points=\"\n  785.908,1486.45 785.908,47.2441 \n  \"/>\n<polyline clip-path=\"url(#clip252)\" style=\"stroke:#000000; stroke-linecap:butt; stroke-linejoin:round; stroke-width:2; stroke-opacity:0.1; fill:none\" points=\"\n  1288.1,1486.45 1288.1,47.2441 \n  \"/>\n<polyline clip-path=\"url(#clip252)\" style=\"stroke:#000000; stroke-linecap:butt; stroke-linejoin:round; stroke-width:2; stroke-opacity:0.1; fill:none\" points=\"\n  1790.3,1486.45 1790.3,47.2441 \n  \"/>\n<polyline clip-path=\"url(#clip252)\" style=\"stroke:#000000; stroke-linecap:butt; stroke-linejoin:round; stroke-width:2; stroke-opacity:0.1; fill:none\" points=\"\n  2292.49,1486.45 2292.49,47.2441 \n  \"/>\n<polyline clip-path=\"url(#clip250)\" style=\"stroke:#000000; stroke-linecap:butt; stroke-linejoin:round; stroke-width:4; stroke-opacity:1; fill:none\" points=\"\n  223.45,1486.45 2352.76,1486.45 \n  \"/>\n<polyline clip-path=\"url(#clip250)\" style=\"stroke:#000000; stroke-linecap:butt; stroke-linejoin:round; stroke-width:4; stroke-opacity:1; fill:none\" points=\"\n  283.713,1486.45 283.713,1467.55 \n  \"/>\n<polyline clip-path=\"url(#clip250)\" style=\"stroke:#000000; stroke-linecap:butt; stroke-linejoin:round; stroke-width:4; stroke-opacity:1; fill:none\" points=\"\n  785.908,1486.45 785.908,1467.55 \n  \"/>\n<polyline clip-path=\"url(#clip250)\" style=\"stroke:#000000; stroke-linecap:butt; stroke-linejoin:round; stroke-width:4; stroke-opacity:1; fill:none\" points=\"\n  1288.1,1486.45 1288.1,1467.55 \n  \"/>\n<polyline clip-path=\"url(#clip250)\" style=\"stroke:#000000; stroke-linecap:butt; stroke-linejoin:round; stroke-width:4; stroke-opacity:1; fill:none\" points=\"\n  1790.3,1486.45 1790.3,1467.55 \n  \"/>\n<polyline clip-path=\"url(#clip250)\" style=\"stroke:#000000; stroke-linecap:butt; stroke-linejoin:round; stroke-width:4; stroke-opacity:1; fill:none\" points=\"\n  2292.49,1486.45 2292.49,1467.55 \n  \"/>\n<path clip-path=\"url(#clip250)\" d=\"M258.401 1544.91 L266.04 1544.91 L266.04 1518.55 L257.729 1520.21 L257.729 1515.95 L265.993 1514.29 L270.669 1514.29 L270.669 1544.91 L278.308 1544.91 L278.308 1548.85 L258.401 1548.85 L258.401 1544.91 Z\" fill=\"#000000\" fill-rule=\"evenodd\" fill-opacity=\"1\" /><path clip-path=\"url(#clip250)\" d=\"M297.752 1517.37 Q294.141 1517.37 292.313 1520.93 Q290.507 1524.47 290.507 1531.6 Q290.507 1538.71 292.313 1542.27 Q294.141 1545.82 297.752 1545.82 Q301.387 1545.82 303.192 1542.27 Q305.021 1538.71 305.021 1531.6 Q305.021 1524.47 303.192 1520.93 Q301.387 1517.37 297.752 1517.37 M297.752 1513.66 Q303.563 1513.66 306.618 1518.27 Q309.697 1522.85 309.697 1531.6 Q309.697 1540.33 306.618 1544.94 Q303.563 1549.52 297.752 1549.52 Q291.942 1549.52 288.864 1544.94 Q285.808 1540.33 285.808 1531.6 Q285.808 1522.85 288.864 1518.27 Q291.942 1513.66 297.752 1513.66 Z\" fill=\"#000000\" fill-rule=\"evenodd\" fill-opacity=\"1\" /><path clip-path=\"url(#clip250)\" d=\"M761.093 1544.91 L768.732 1544.91 L768.732 1518.55 L760.422 1520.21 L760.422 1515.95 L768.686 1514.29 L773.362 1514.29 L773.362 1544.91 L781.001 1544.91 L781.001 1548.85 L761.093 1548.85 L761.093 1544.91 Z\" fill=\"#000000\" fill-rule=\"evenodd\" fill-opacity=\"1\" /><path clip-path=\"url(#clip250)\" d=\"M790.491 1514.29 L808.848 1514.29 L808.848 1518.22 L794.774 1518.22 L794.774 1526.7 Q795.792 1526.35 796.811 1526.19 Q797.829 1526 798.848 1526 Q804.635 1526 808.014 1529.17 Q811.394 1532.34 811.394 1537.76 Q811.394 1543.34 807.922 1546.44 Q804.45 1549.52 798.13 1549.52 Q795.954 1549.52 793.686 1549.15 Q791.44 1548.78 789.033 1548.04 L789.033 1543.34 Q791.116 1544.47 793.338 1545.03 Q795.561 1545.58 798.038 1545.58 Q802.042 1545.58 804.38 1543.48 Q806.718 1541.37 806.718 1537.76 Q806.718 1534.15 804.38 1532.04 Q802.042 1529.94 798.038 1529.94 Q796.163 1529.94 794.288 1530.35 Q792.436 1530.77 790.491 1531.65 L790.491 1514.29 Z\" fill=\"#000000\" fill-rule=\"evenodd\" fill-opacity=\"1\" /><path clip-path=\"url(#clip250)\" d=\"M1266.88 1544.91 L1283.2 1544.91 L1283.2 1548.85 L1261.25 1548.85 L1261.25 1544.91 Q1263.91 1542.16 1268.5 1537.53 Q1273.1 1532.88 1274.28 1531.53 Q1276.53 1529.01 1277.41 1527.27 Q1278.31 1525.51 1278.31 1523.82 Q1278.31 1521.07 1276.37 1519.33 Q1274.45 1517.6 1271.34 1517.6 Q1269.14 1517.6 1266.69 1518.36 Q1264.26 1519.13 1261.48 1520.68 L1261.48 1515.95 Q1264.31 1514.82 1266.76 1514.24 Q1269.21 1513.66 1271.25 1513.66 Q1276.62 1513.66 1279.82 1516.35 Q1283.01 1519.03 1283.01 1523.52 Q1283.01 1525.65 1282.2 1527.57 Q1281.41 1529.47 1279.31 1532.07 Q1278.73 1532.74 1275.63 1535.95 Q1272.52 1539.15 1266.88 1544.91 Z\" fill=\"#000000\" fill-rule=\"evenodd\" fill-opacity=\"1\" /><path clip-path=\"url(#clip250)\" d=\"M1303.01 1517.37 Q1299.4 1517.37 1297.57 1520.93 Q1295.76 1524.47 1295.76 1531.6 Q1295.76 1538.71 1297.57 1542.27 Q1299.4 1545.82 1303.01 1545.82 Q1306.64 1545.82 1308.45 1542.27 Q1310.28 1538.71 1310.28 1531.6 Q1310.28 1524.47 1308.45 1520.93 Q1306.64 1517.37 1303.01 1517.37 M1303.01 1513.66 Q1308.82 1513.66 1311.88 1518.27 Q1314.95 1522.85 1314.95 1531.6 Q1314.95 1540.33 1311.88 1544.94 Q1308.82 1549.52 1303.01 1549.52 Q1297.2 1549.52 1294.12 1544.94 Q1291.07 1540.33 1291.07 1531.6 Q1291.07 1522.85 1294.12 1518.27 Q1297.2 1513.66 1303.01 1513.66 Z\" fill=\"#000000\" fill-rule=\"evenodd\" fill-opacity=\"1\" /><path clip-path=\"url(#clip250)\" d=\"M1769.57 1544.91 L1785.89 1544.91 L1785.89 1548.85 L1763.94 1548.85 L1763.94 1544.91 Q1766.61 1542.16 1771.19 1537.53 Q1775.8 1532.88 1776.98 1531.53 Q1779.22 1529.01 1780.1 1527.27 Q1781 1525.51 1781 1523.82 Q1781 1521.07 1779.06 1519.33 Q1777.14 1517.6 1774.04 1517.6 Q1771.84 1517.6 1769.38 1518.36 Q1766.95 1519.13 1764.18 1520.68 L1764.18 1515.95 Q1767 1514.82 1769.45 1514.24 Q1771.91 1513.66 1773.94 1513.66 Q1779.31 1513.66 1782.51 1516.35 Q1785.7 1519.03 1785.7 1523.52 Q1785.7 1525.65 1784.89 1527.57 Q1784.11 1529.47 1782 1532.07 Q1781.42 1532.74 1778.32 1535.95 Q1775.22 1539.15 1769.57 1544.91 Z\" fill=\"#000000\" fill-rule=\"evenodd\" fill-opacity=\"1\" /><path clip-path=\"url(#clip250)\" d=\"M1795.75 1514.29 L1814.11 1514.29 L1814.11 1518.22 L1800.03 1518.22 L1800.03 1526.7 Q1801.05 1526.35 1802.07 1526.19 Q1803.09 1526 1804.11 1526 Q1809.89 1526 1813.27 1529.17 Q1816.65 1532.34 1816.65 1537.76 Q1816.65 1543.34 1813.18 1546.44 Q1809.71 1549.52 1803.39 1549.52 Q1801.21 1549.52 1798.94 1549.15 Q1796.7 1548.78 1794.29 1548.04 L1794.29 1543.34 Q1796.37 1544.47 1798.6 1545.03 Q1800.82 1545.58 1803.3 1545.58 Q1807.3 1545.58 1809.64 1543.48 Q1811.98 1541.37 1811.98 1537.76 Q1811.98 1534.15 1809.64 1532.04 Q1807.3 1529.94 1803.3 1529.94 Q1801.42 1529.94 1799.55 1530.35 Q1797.69 1530.77 1795.75 1531.65 L1795.75 1514.29 Z\" fill=\"#000000\" fill-rule=\"evenodd\" fill-opacity=\"1\" /><path clip-path=\"url(#clip250)\" d=\"M2281.34 1530.21 Q2284.69 1530.93 2286.57 1533.2 Q2288.46 1535.47 2288.46 1538.8 Q2288.46 1543.92 2284.95 1546.72 Q2281.43 1549.52 2274.95 1549.52 Q2272.77 1549.52 2270.46 1549.08 Q2268.16 1548.66 2265.71 1547.81 L2265.71 1543.29 Q2267.65 1544.43 2269.97 1545.01 Q2272.28 1545.58 2274.81 1545.58 Q2279.21 1545.58 2281.5 1543.85 Q2283.81 1542.11 2283.81 1538.8 Q2283.81 1535.75 2281.66 1534.03 Q2279.53 1532.3 2275.71 1532.3 L2271.68 1532.3 L2271.68 1528.45 L2275.9 1528.45 Q2279.34 1528.45 2281.17 1527.09 Q2283 1525.7 2283 1523.11 Q2283 1520.45 2281.1 1519.03 Q2279.23 1517.6 2275.71 1517.6 Q2273.79 1517.6 2271.59 1518.01 Q2269.39 1518.43 2266.75 1519.31 L2266.75 1515.14 Q2269.41 1514.4 2271.73 1514.03 Q2274.07 1513.66 2276.13 1513.66 Q2281.45 1513.66 2284.55 1516.09 Q2287.65 1518.5 2287.65 1522.62 Q2287.65 1525.49 2286.01 1527.48 Q2284.37 1529.45 2281.34 1530.21 Z\" fill=\"#000000\" fill-rule=\"evenodd\" fill-opacity=\"1\" /><path clip-path=\"url(#clip250)\" d=\"M2307.33 1517.37 Q2303.72 1517.37 2301.89 1520.93 Q2300.09 1524.47 2300.09 1531.6 Q2300.09 1538.71 2301.89 1542.27 Q2303.72 1545.82 2307.33 1545.82 Q2310.96 1545.82 2312.77 1542.27 Q2314.6 1538.71 2314.6 1531.6 Q2314.6 1524.47 2312.77 1520.93 Q2310.96 1517.37 2307.33 1517.37 M2307.33 1513.66 Q2313.14 1513.66 2316.2 1518.27 Q2319.27 1522.85 2319.27 1531.6 Q2319.27 1540.33 2316.2 1544.94 Q2313.14 1549.52 2307.33 1549.52 Q2301.52 1549.52 2298.44 1544.94 Q2295.39 1540.33 2295.39 1531.6 Q2295.39 1522.85 2298.44 1518.27 Q2301.52 1513.66 2307.33 1513.66 Z\" fill=\"#000000\" fill-rule=\"evenodd\" fill-opacity=\"1\" /><polyline clip-path=\"url(#clip252)\" style=\"stroke:#000000; stroke-linecap:butt; stroke-linejoin:round; stroke-width:2; stroke-opacity:0.1; fill:none\" points=\"\n  223.45,1407.35 2352.76,1407.35 \n  \"/>\n<polyline clip-path=\"url(#clip252)\" style=\"stroke:#000000; stroke-linecap:butt; stroke-linejoin:round; stroke-width:2; stroke-opacity:0.1; fill:none\" points=\"\n  223.45,967.559 2352.76,967.559 \n  \"/>\n<polyline clip-path=\"url(#clip252)\" style=\"stroke:#000000; stroke-linecap:butt; stroke-linejoin:round; stroke-width:2; stroke-opacity:0.1; fill:none\" points=\"\n  223.45,527.768 2352.76,527.768 \n  \"/>\n<polyline clip-path=\"url(#clip252)\" style=\"stroke:#000000; stroke-linecap:butt; stroke-linejoin:round; stroke-width:2; stroke-opacity:0.1; fill:none\" points=\"\n  223.45,87.9763 2352.76,87.9763 \n  \"/>\n<polyline clip-path=\"url(#clip250)\" style=\"stroke:#000000; stroke-linecap:butt; stroke-linejoin:round; stroke-width:4; stroke-opacity:1; fill:none\" points=\"\n  223.45,1486.45 223.45,47.2441 \n  \"/>\n<polyline clip-path=\"url(#clip250)\" style=\"stroke:#000000; stroke-linecap:butt; stroke-linejoin:round; stroke-width:4; stroke-opacity:1; fill:none\" points=\"\n  223.45,1407.35 242.347,1407.35 \n  \"/>\n<polyline clip-path=\"url(#clip250)\" style=\"stroke:#000000; stroke-linecap:butt; stroke-linejoin:round; stroke-width:4; stroke-opacity:1; fill:none\" points=\"\n  223.45,967.559 242.347,967.559 \n  \"/>\n<polyline clip-path=\"url(#clip250)\" style=\"stroke:#000000; stroke-linecap:butt; stroke-linejoin:round; stroke-width:4; stroke-opacity:1; fill:none\" points=\"\n  223.45,527.768 242.347,527.768 \n  \"/>\n<polyline clip-path=\"url(#clip250)\" style=\"stroke:#000000; stroke-linecap:butt; stroke-linejoin:round; stroke-width:4; stroke-opacity:1; fill:none\" points=\"\n  223.45,87.9763 242.347,87.9763 \n  \"/>\n<path clip-path=\"url(#clip250)\" d=\"M50.9921 1407.8 L80.6679 1407.8 L80.6679 1411.74 L50.9921 1411.74 L50.9921 1407.8 Z\" fill=\"#000000\" fill-rule=\"evenodd\" fill-opacity=\"1\" /><path clip-path=\"url(#clip250)\" d=\"M100.76 1393.15 Q97.1493 1393.15 95.3206 1396.71 Q93.515 1400.26 93.515 1407.39 Q93.515 1414.49 95.3206 1418.06 Q97.1493 1421.6 100.76 1421.6 Q104.395 1421.6 106.2 1418.06 Q108.029 1414.49 108.029 1407.39 Q108.029 1400.26 106.2 1396.71 Q104.395 1393.15 100.76 1393.15 M100.76 1389.45 Q106.571 1389.45 109.626 1394.05 Q112.705 1398.64 112.705 1407.39 Q112.705 1416.11 109.626 1420.72 Q106.571 1425.3 100.76 1425.3 Q94.9502 1425.3 91.8715 1420.72 Q88.816 1416.11 88.816 1407.39 Q88.816 1398.64 91.8715 1394.05 Q94.9502 1389.45 100.76 1389.45 Z\" fill=\"#000000\" fill-rule=\"evenodd\" fill-opacity=\"1\" /><path clip-path=\"url(#clip250)\" d=\"M120.922 1418.75 L125.807 1418.75 L125.807 1424.63 L120.922 1424.63 L120.922 1418.75 Z\" fill=\"#000000\" fill-rule=\"evenodd\" fill-opacity=\"1\" /><path clip-path=\"url(#clip250)\" d=\"M145.992 1393.15 Q142.381 1393.15 140.552 1396.71 Q138.746 1400.26 138.746 1407.39 Q138.746 1414.49 140.552 1418.06 Q142.381 1421.6 145.992 1421.6 Q149.626 1421.6 151.431 1418.06 Q153.26 1414.49 153.26 1407.39 Q153.26 1400.26 151.431 1396.71 Q149.626 1393.15 145.992 1393.15 M145.992 1389.45 Q151.802 1389.45 154.857 1394.05 Q157.936 1398.64 157.936 1407.39 Q157.936 1416.11 154.857 1420.72 Q151.802 1425.3 145.992 1425.3 Q140.181 1425.3 137.103 1420.72 Q134.047 1416.11 134.047 1407.39 Q134.047 1398.64 137.103 1394.05 Q140.181 1389.45 145.992 1389.45 Z\" fill=\"#000000\" fill-rule=\"evenodd\" fill-opacity=\"1\" /><path clip-path=\"url(#clip250)\" d=\"M180.32 1406 Q183.677 1406.71 185.552 1408.98 Q187.45 1411.25 187.45 1414.58 Q187.45 1419.7 183.931 1422.5 Q180.413 1425.3 173.931 1425.3 Q171.755 1425.3 169.441 1424.86 Q167.149 1424.45 164.695 1423.59 L164.695 1419.07 Q166.64 1420.21 168.954 1420.79 Q171.269 1421.37 173.792 1421.37 Q178.191 1421.37 180.482 1419.63 Q182.797 1417.89 182.797 1414.58 Q182.797 1411.53 180.644 1409.82 Q178.515 1408.08 174.695 1408.08 L170.667 1408.08 L170.667 1404.24 L174.88 1404.24 Q178.329 1404.24 180.158 1402.87 Q181.987 1401.48 181.987 1398.89 Q181.987 1396.23 180.089 1394.82 Q178.214 1393.38 174.695 1393.38 Q172.774 1393.38 170.575 1393.8 Q168.376 1394.21 165.737 1395.09 L165.737 1390.93 Q168.399 1390.19 170.714 1389.82 Q173.052 1389.45 175.112 1389.45 Q180.436 1389.45 183.538 1391.88 Q186.64 1394.28 186.64 1398.4 Q186.64 1401.27 184.996 1403.26 Q183.353 1405.23 180.32 1406 Z\" fill=\"#000000\" fill-rule=\"evenodd\" fill-opacity=\"1\" /><path clip-path=\"url(#clip250)\" d=\"M51.9412 968.01 L81.617 968.01 L81.617 971.946 L51.9412 971.946 L51.9412 968.01 Z\" fill=\"#000000\" fill-rule=\"evenodd\" fill-opacity=\"1\" /><path clip-path=\"url(#clip250)\" d=\"M101.709 953.358 Q98.0984 953.358 96.2697 956.923 Q94.4641 960.464 94.4641 967.594 Q94.4641 974.7 96.2697 978.265 Q98.0984 981.807 101.709 981.807 Q105.344 981.807 107.149 978.265 Q108.978 974.7 108.978 967.594 Q108.978 960.464 107.149 956.923 Q105.344 953.358 101.709 953.358 M101.709 949.654 Q107.52 949.654 110.575 954.261 Q113.654 958.844 113.654 967.594 Q113.654 976.321 110.575 980.927 Q107.52 985.51 101.709 985.51 Q95.8993 985.51 92.8206 980.927 Q89.7651 976.321 89.7651 967.594 Q89.7651 958.844 92.8206 954.261 Q95.8993 949.654 101.709 949.654 Z\" fill=\"#000000\" fill-rule=\"evenodd\" fill-opacity=\"1\" /><path clip-path=\"url(#clip250)\" d=\"M121.871 978.959 L126.756 978.959 L126.756 984.839 L121.871 984.839 L121.871 978.959 Z\" fill=\"#000000\" fill-rule=\"evenodd\" fill-opacity=\"1\" /><path clip-path=\"url(#clip250)\" d=\"M146.941 953.358 Q143.33 953.358 141.501 956.923 Q139.695 960.464 139.695 967.594 Q139.695 974.7 141.501 978.265 Q143.33 981.807 146.941 981.807 Q150.575 981.807 152.38 978.265 Q154.209 974.7 154.209 967.594 Q154.209 960.464 152.38 956.923 Q150.575 953.358 146.941 953.358 M146.941 949.654 Q152.751 949.654 155.806 954.261 Q158.885 958.844 158.885 967.594 Q158.885 976.321 155.806 980.927 Q152.751 985.51 146.941 985.51 Q141.131 985.51 138.052 980.927 Q134.996 976.321 134.996 967.594 Q134.996 958.844 138.052 954.261 Q141.131 949.654 146.941 949.654 Z\" fill=\"#000000\" fill-rule=\"evenodd\" fill-opacity=\"1\" /><path clip-path=\"url(#clip250)\" d=\"M171.13 980.904 L187.45 980.904 L187.45 984.839 L165.505 984.839 L165.505 980.904 Q168.167 978.149 172.751 973.52 Q177.357 968.867 178.538 967.524 Q180.783 965.001 181.663 963.265 Q182.565 961.506 182.565 959.816 Q182.565 957.061 180.621 955.325 Q178.7 953.589 175.598 953.589 Q173.399 953.589 170.945 954.353 Q168.515 955.117 165.737 956.668 L165.737 951.946 Q168.561 950.811 171.015 950.233 Q173.468 949.654 175.505 949.654 Q180.876 949.654 184.07 952.339 Q187.265 955.024 187.265 959.515 Q187.265 961.645 186.454 963.566 Q185.667 965.464 183.561 968.057 Q182.982 968.728 179.88 971.946 Q176.778 975.14 171.13 980.904 Z\" fill=\"#000000\" fill-rule=\"evenodd\" fill-opacity=\"1\" /><path clip-path=\"url(#clip250)\" d=\"M51.5708 528.219 L81.2466 528.219 L81.2466 532.154 L51.5708 532.154 L51.5708 528.219 Z\" fill=\"#000000\" fill-rule=\"evenodd\" fill-opacity=\"1\" /><path clip-path=\"url(#clip250)\" d=\"M101.339 513.566 Q97.728 513.566 95.8993 517.131 Q94.0937 520.673 94.0937 527.802 Q94.0937 534.909 95.8993 538.474 Q97.728 542.015 101.339 542.015 Q104.973 542.015 106.779 538.474 Q108.608 534.909 108.608 527.802 Q108.608 520.673 106.779 517.131 Q104.973 513.566 101.339 513.566 M101.339 509.863 Q107.149 509.863 110.205 514.469 Q113.283 519.052 113.283 527.802 Q113.283 536.529 110.205 541.136 Q107.149 545.719 101.339 545.719 Q95.5289 545.719 92.4502 541.136 Q89.3947 536.529 89.3947 527.802 Q89.3947 519.052 92.4502 514.469 Q95.5289 509.863 101.339 509.863 Z\" fill=\"#000000\" fill-rule=\"evenodd\" fill-opacity=\"1\" /><path clip-path=\"url(#clip250)\" d=\"M121.501 539.168 L126.385 539.168 L126.385 545.048 L121.501 545.048 L121.501 539.168 Z\" fill=\"#000000\" fill-rule=\"evenodd\" fill-opacity=\"1\" /><path clip-path=\"url(#clip250)\" d=\"M146.57 513.566 Q142.959 513.566 141.131 517.131 Q139.325 520.673 139.325 527.802 Q139.325 534.909 141.131 538.474 Q142.959 542.015 146.57 542.015 Q150.205 542.015 152.01 538.474 Q153.839 534.909 153.839 527.802 Q153.839 520.673 152.01 517.131 Q150.205 513.566 146.57 513.566 M146.57 509.863 Q152.38 509.863 155.436 514.469 Q158.515 519.052 158.515 527.802 Q158.515 536.529 155.436 541.136 Q152.38 545.719 146.57 545.719 Q140.76 545.719 137.681 541.136 Q134.626 536.529 134.626 527.802 Q134.626 519.052 137.681 514.469 Q140.76 509.863 146.57 509.863 Z\" fill=\"#000000\" fill-rule=\"evenodd\" fill-opacity=\"1\" /><path clip-path=\"url(#clip250)\" d=\"M167.542 541.112 L175.181 541.112 L175.181 514.747 L166.871 516.414 L166.871 512.154 L175.135 510.488 L179.811 510.488 L179.811 541.112 L187.45 541.112 L187.45 545.048 L167.542 545.048 L167.542 541.112 Z\" fill=\"#000000\" fill-rule=\"evenodd\" fill-opacity=\"1\" /><path clip-path=\"url(#clip250)\" d=\"M100.112 73.775 Q96.5011 73.775 94.6724 77.3398 Q92.8669 80.8814 92.8669 88.011 Q92.8669 95.1174 94.6724 98.6822 Q96.5011 102.224 100.112 102.224 Q103.746 102.224 105.552 98.6822 Q107.381 95.1174 107.381 88.011 Q107.381 80.8814 105.552 77.3398 Q103.746 73.775 100.112 73.775 M100.112 70.0713 Q105.922 70.0713 108.978 74.6777 Q112.057 79.261 112.057 88.011 Q112.057 96.7378 108.978 101.344 Q105.922 105.928 100.112 105.928 Q94.3021 105.928 91.2234 101.344 Q88.1679 96.7378 88.1679 88.011 Q88.1679 79.261 91.2234 74.6777 Q94.3021 70.0713 100.112 70.0713 Z\" fill=\"#000000\" fill-rule=\"evenodd\" fill-opacity=\"1\" /><path clip-path=\"url(#clip250)\" d=\"M120.274 99.3767 L125.158 99.3767 L125.158 105.256 L120.274 105.256 L120.274 99.3767 Z\" fill=\"#000000\" fill-rule=\"evenodd\" fill-opacity=\"1\" /><path clip-path=\"url(#clip250)\" d=\"M145.343 73.775 Q141.732 73.775 139.904 77.3398 Q138.098 80.8814 138.098 88.011 Q138.098 95.1174 139.904 98.6822 Q141.732 102.224 145.343 102.224 Q148.978 102.224 150.783 98.6822 Q152.612 95.1174 152.612 88.011 Q152.612 80.8814 150.783 77.3398 Q148.978 73.775 145.343 73.775 M145.343 70.0713 Q151.154 70.0713 154.209 74.6777 Q157.288 79.261 157.288 88.011 Q157.288 96.7378 154.209 101.344 Q151.154 105.928 145.343 105.928 Q139.533 105.928 136.455 101.344 Q133.399 96.7378 133.399 88.011 Q133.399 79.261 136.455 74.6777 Q139.533 70.0713 145.343 70.0713 Z\" fill=\"#000000\" fill-rule=\"evenodd\" fill-opacity=\"1\" /><path clip-path=\"url(#clip250)\" d=\"M175.505 73.775 Q171.894 73.775 170.066 77.3398 Q168.26 80.8814 168.26 88.011 Q168.26 95.1174 170.066 98.6822 Q171.894 102.224 175.505 102.224 Q179.14 102.224 180.945 98.6822 Q182.774 95.1174 182.774 88.011 Q182.774 80.8814 180.945 77.3398 Q179.14 73.775 175.505 73.775 M175.505 70.0713 Q181.316 70.0713 184.371 74.6777 Q187.45 79.261 187.45 88.011 Q187.45 96.7378 184.371 101.344 Q181.316 105.928 175.505 105.928 Q169.695 105.928 166.617 101.344 Q163.561 96.7378 163.561 88.011 Q163.561 79.261 166.617 74.6777 Q169.695 70.0713 175.505 70.0713 Z\" fill=\"#000000\" fill-rule=\"evenodd\" fill-opacity=\"1\" /><polyline clip-path=\"url(#clip252)\" style=\"stroke:#009af9; stroke-linecap:butt; stroke-linejoin:round; stroke-width:4; stroke-opacity:1; fill:none\" points=\"\n  2292.49,1445.72 2236.69,1414.75 2180.89,1383.03 2125.09,1350.57 2069.29,1317.33 2013.5,1283.3 1957.7,1248.47 1901.9,1212.83 1846.1,1176.36 1790.3,1139.06 \n  1689.86,1069.79 1645.22,1038.12 1600.58,1005.91 1555.94,973.167 1511.3,939.886 1466.66,906.08 1422.02,871.759 1377.38,836.938 1332.74,801.635 1288.1,765.872 \n  1187.66,683.885 1165.34,665.413 1143.02,646.861 1120.7,628.237 1098.38,609.548 1076.06,590.803 1053.75,572.01 1031.43,553.179 1009.11,534.321 986.786,515.448 \n  976.742,506.954 955.538,489.025 934.334,471.111 913.131,453.227 891.927,435.387 870.723,417.606 849.519,399.902 828.316,382.293 807.112,364.8 785.908,347.446 \n  876.303,422.278 855.099,404.552 833.895,386.916 812.692,369.391 791.488,351.998 770.284,334.761 749.08,317.706 727.877,300.861 706.673,284.258 685.469,267.929 \n  675.425,260.301 665.381,252.748 655.337,245.273 645.293,237.882 635.25,230.579 625.206,223.369 615.162,216.259 605.118,209.252 595.074,202.356 585.03,195.577 \n  574.986,188.92 564.942,182.394 554.898,176.004 544.854,169.759 534.811,163.666 524.767,157.734 514.723,151.972 504.679,146.388 494.635,140.991 484.591,135.793 \n  474.547,130.803 464.503,126.033 454.459,121.492 444.415,117.194 434.372,113.149 424.328,109.371 414.284,105.87 404.24,102.66 394.196,99.7521 384.152,97.1567 \n  374.108,94.8839 364.064,92.9413 354.02,91.3335 343.976,90.0605 333.933,89.1156 323.889,88.4816 313.845,88.1259 303.801,87.9908 293.757,87.9763 283.713,87.9763 \n  \n  \"/>\n<path clip-path=\"url(#clip250)\" d=\"\nM1992.76 198.898 L2281.78 198.898 L2281.78 95.2176 L1992.76 95.2176  Z\n  \" fill=\"#ffffff\" fill-rule=\"evenodd\" fill-opacity=\"1\"/>\n<polyline clip-path=\"url(#clip250)\" style=\"stroke:#000000; stroke-linecap:butt; stroke-linejoin:round; stroke-width:4; stroke-opacity:1; fill:none\" points=\"\n  1992.76,198.898 2281.78,198.898 2281.78,95.2176 1992.76,95.2176 1992.76,198.898 \n  \"/>\n<polyline clip-path=\"url(#clip250)\" style=\"stroke:#009af9; stroke-linecap:butt; stroke-linejoin:round; stroke-width:4; stroke-opacity:1; fill:none\" points=\"\n  2016.42,147.058 2158.37,147.058 \n  \"/>\n<path clip-path=\"url(#clip250)\" d=\"M2195.87 166.745 Q2194.07 171.375 2192.35 172.787 Q2190.64 174.199 2187.77 174.199 L2184.37 174.199 L2184.37 170.634 L2186.87 170.634 Q2188.63 170.634 2189.6 169.8 Q2190.57 168.967 2191.75 165.865 L2192.52 163.921 L2182.03 138.412 L2186.54 138.412 L2194.65 158.689 L2202.75 138.412 L2207.26 138.412 L2195.87 166.745 Z\" fill=\"#000000\" fill-rule=\"evenodd\" fill-opacity=\"1\" /><path clip-path=\"url(#clip250)\" d=\"M2214.55 160.402 L2222.19 160.402 L2222.19 134.037 L2213.88 135.703 L2213.88 131.444 L2222.15 129.778 L2226.82 129.778 L2226.82 160.402 L2234.46 160.402 L2234.46 164.338 L2214.55 164.338 L2214.55 160.402 Z\" fill=\"#000000\" fill-rule=\"evenodd\" fill-opacity=\"1\" /></svg>\n",
      "text/html": [
       "<?xml version=\"1.0\" encoding=\"utf-8\"?>\n",
       "<svg xmlns=\"http://www.w3.org/2000/svg\" xmlns:xlink=\"http://www.w3.org/1999/xlink\" width=\"600\" height=\"400\" viewBox=\"0 0 2400 1600\">\n",
       "<defs>\n",
       "  <clipPath id=\"clip300\">\n",
       "    <rect x=\"0\" y=\"0\" width=\"2400\" height=\"1600\"/>\n",
       "  </clipPath>\n",
       "</defs>\n",
       "<path clip-path=\"url(#clip300)\" d=\"\n",
       "M0 1600 L2400 1600 L2400 0 L0 0  Z\n",
       "  \" fill=\"#ffffff\" fill-rule=\"evenodd\" fill-opacity=\"1\"/>\n",
       "<defs>\n",
       "  <clipPath id=\"clip301\">\n",
       "    <rect x=\"480\" y=\"0\" width=\"1681\" height=\"1600\"/>\n",
       "  </clipPath>\n",
       "</defs>\n",
       "<path clip-path=\"url(#clip300)\" d=\"\n",
       "M223.45 1486.45 L2352.76 1486.45 L2352.76 47.2441 L223.45 47.2441  Z\n",
       "  \" fill=\"#ffffff\" fill-rule=\"evenodd\" fill-opacity=\"1\"/>\n",
       "<defs>\n",
       "  <clipPath id=\"clip302\">\n",
       "    <rect x=\"223\" y=\"47\" width=\"2130\" height=\"1440\"/>\n",
       "  </clipPath>\n",
       "</defs>\n",
       "<polyline clip-path=\"url(#clip302)\" style=\"stroke:#000000; stroke-linecap:butt; stroke-linejoin:round; stroke-width:2; stroke-opacity:0.1; fill:none\" points=\"\n",
       "  283.713,1486.45 283.713,47.2441 \n",
       "  \"/>\n",
       "<polyline clip-path=\"url(#clip302)\" style=\"stroke:#000000; stroke-linecap:butt; stroke-linejoin:round; stroke-width:2; stroke-opacity:0.1; fill:none\" points=\"\n",
       "  785.908,1486.45 785.908,47.2441 \n",
       "  \"/>\n",
       "<polyline clip-path=\"url(#clip302)\" style=\"stroke:#000000; stroke-linecap:butt; stroke-linejoin:round; stroke-width:2; stroke-opacity:0.1; fill:none\" points=\"\n",
       "  1288.1,1486.45 1288.1,47.2441 \n",
       "  \"/>\n",
       "<polyline clip-path=\"url(#clip302)\" style=\"stroke:#000000; stroke-linecap:butt; stroke-linejoin:round; stroke-width:2; stroke-opacity:0.1; fill:none\" points=\"\n",
       "  1790.3,1486.45 1790.3,47.2441 \n",
       "  \"/>\n",
       "<polyline clip-path=\"url(#clip302)\" style=\"stroke:#000000; stroke-linecap:butt; stroke-linejoin:round; stroke-width:2; stroke-opacity:0.1; fill:none\" points=\"\n",
       "  2292.49,1486.45 2292.49,47.2441 \n",
       "  \"/>\n",
       "<polyline clip-path=\"url(#clip300)\" style=\"stroke:#000000; stroke-linecap:butt; stroke-linejoin:round; stroke-width:4; stroke-opacity:1; fill:none\" points=\"\n",
       "  223.45,1486.45 2352.76,1486.45 \n",
       "  \"/>\n",
       "<polyline clip-path=\"url(#clip300)\" style=\"stroke:#000000; stroke-linecap:butt; stroke-linejoin:round; stroke-width:4; stroke-opacity:1; fill:none\" points=\"\n",
       "  283.713,1486.45 283.713,1467.55 \n",
       "  \"/>\n",
       "<polyline clip-path=\"url(#clip300)\" style=\"stroke:#000000; stroke-linecap:butt; stroke-linejoin:round; stroke-width:4; stroke-opacity:1; fill:none\" points=\"\n",
       "  785.908,1486.45 785.908,1467.55 \n",
       "  \"/>\n",
       "<polyline clip-path=\"url(#clip300)\" style=\"stroke:#000000; stroke-linecap:butt; stroke-linejoin:round; stroke-width:4; stroke-opacity:1; fill:none\" points=\"\n",
       "  1288.1,1486.45 1288.1,1467.55 \n",
       "  \"/>\n",
       "<polyline clip-path=\"url(#clip300)\" style=\"stroke:#000000; stroke-linecap:butt; stroke-linejoin:round; stroke-width:4; stroke-opacity:1; fill:none\" points=\"\n",
       "  1790.3,1486.45 1790.3,1467.55 \n",
       "  \"/>\n",
       "<polyline clip-path=\"url(#clip300)\" style=\"stroke:#000000; stroke-linecap:butt; stroke-linejoin:round; stroke-width:4; stroke-opacity:1; fill:none\" points=\"\n",
       "  2292.49,1486.45 2292.49,1467.55 \n",
       "  \"/>\n",
       "<path clip-path=\"url(#clip300)\" d=\"M258.401 1544.91 L266.04 1544.91 L266.04 1518.55 L257.729 1520.21 L257.729 1515.95 L265.993 1514.29 L270.669 1514.29 L270.669 1544.91 L278.308 1544.91 L278.308 1548.85 L258.401 1548.85 L258.401 1544.91 Z\" fill=\"#000000\" fill-rule=\"evenodd\" fill-opacity=\"1\" /><path clip-path=\"url(#clip300)\" d=\"M297.752 1517.37 Q294.141 1517.37 292.313 1520.93 Q290.507 1524.47 290.507 1531.6 Q290.507 1538.71 292.313 1542.27 Q294.141 1545.82 297.752 1545.82 Q301.387 1545.82 303.192 1542.27 Q305.021 1538.71 305.021 1531.6 Q305.021 1524.47 303.192 1520.93 Q301.387 1517.37 297.752 1517.37 M297.752 1513.66 Q303.563 1513.66 306.618 1518.27 Q309.697 1522.85 309.697 1531.6 Q309.697 1540.33 306.618 1544.94 Q303.563 1549.52 297.752 1549.52 Q291.942 1549.52 288.864 1544.94 Q285.808 1540.33 285.808 1531.6 Q285.808 1522.85 288.864 1518.27 Q291.942 1513.66 297.752 1513.66 Z\" fill=\"#000000\" fill-rule=\"evenodd\" fill-opacity=\"1\" /><path clip-path=\"url(#clip300)\" d=\"M761.093 1544.91 L768.732 1544.91 L768.732 1518.55 L760.422 1520.21 L760.422 1515.95 L768.686 1514.29 L773.362 1514.29 L773.362 1544.91 L781.001 1544.91 L781.001 1548.85 L761.093 1548.85 L761.093 1544.91 Z\" fill=\"#000000\" fill-rule=\"evenodd\" fill-opacity=\"1\" /><path clip-path=\"url(#clip300)\" d=\"M790.491 1514.29 L808.848 1514.29 L808.848 1518.22 L794.774 1518.22 L794.774 1526.7 Q795.792 1526.35 796.811 1526.19 Q797.829 1526 798.848 1526 Q804.635 1526 808.014 1529.17 Q811.394 1532.34 811.394 1537.76 Q811.394 1543.34 807.922 1546.44 Q804.45 1549.52 798.13 1549.52 Q795.954 1549.52 793.686 1549.15 Q791.44 1548.78 789.033 1548.04 L789.033 1543.34 Q791.116 1544.47 793.338 1545.03 Q795.561 1545.58 798.038 1545.58 Q802.042 1545.58 804.38 1543.48 Q806.718 1541.37 806.718 1537.76 Q806.718 1534.15 804.38 1532.04 Q802.042 1529.94 798.038 1529.94 Q796.163 1529.94 794.288 1530.35 Q792.436 1530.77 790.491 1531.65 L790.491 1514.29 Z\" fill=\"#000000\" fill-rule=\"evenodd\" fill-opacity=\"1\" /><path clip-path=\"url(#clip300)\" d=\"M1266.88 1544.91 L1283.2 1544.91 L1283.2 1548.85 L1261.25 1548.85 L1261.25 1544.91 Q1263.91 1542.16 1268.5 1537.53 Q1273.1 1532.88 1274.28 1531.53 Q1276.53 1529.01 1277.41 1527.27 Q1278.31 1525.51 1278.31 1523.82 Q1278.31 1521.07 1276.37 1519.33 Q1274.45 1517.6 1271.34 1517.6 Q1269.14 1517.6 1266.69 1518.36 Q1264.26 1519.13 1261.48 1520.68 L1261.48 1515.95 Q1264.31 1514.82 1266.76 1514.24 Q1269.21 1513.66 1271.25 1513.66 Q1276.62 1513.66 1279.82 1516.35 Q1283.01 1519.03 1283.01 1523.52 Q1283.01 1525.65 1282.2 1527.57 Q1281.41 1529.47 1279.31 1532.07 Q1278.73 1532.74 1275.63 1535.95 Q1272.52 1539.15 1266.88 1544.91 Z\" fill=\"#000000\" fill-rule=\"evenodd\" fill-opacity=\"1\" /><path clip-path=\"url(#clip300)\" d=\"M1303.01 1517.37 Q1299.4 1517.37 1297.57 1520.93 Q1295.76 1524.47 1295.76 1531.6 Q1295.76 1538.71 1297.57 1542.27 Q1299.4 1545.82 1303.01 1545.82 Q1306.64 1545.82 1308.45 1542.27 Q1310.28 1538.71 1310.28 1531.6 Q1310.28 1524.47 1308.45 1520.93 Q1306.64 1517.37 1303.01 1517.37 M1303.01 1513.66 Q1308.82 1513.66 1311.88 1518.27 Q1314.95 1522.85 1314.95 1531.6 Q1314.95 1540.33 1311.88 1544.94 Q1308.82 1549.52 1303.01 1549.52 Q1297.2 1549.52 1294.12 1544.94 Q1291.07 1540.33 1291.07 1531.6 Q1291.07 1522.85 1294.12 1518.27 Q1297.2 1513.66 1303.01 1513.66 Z\" fill=\"#000000\" fill-rule=\"evenodd\" fill-opacity=\"1\" /><path clip-path=\"url(#clip300)\" d=\"M1769.57 1544.91 L1785.89 1544.91 L1785.89 1548.85 L1763.94 1548.85 L1763.94 1544.91 Q1766.61 1542.16 1771.19 1537.53 Q1775.8 1532.88 1776.98 1531.53 Q1779.22 1529.01 1780.1 1527.27 Q1781 1525.51 1781 1523.82 Q1781 1521.07 1779.06 1519.33 Q1777.14 1517.6 1774.04 1517.6 Q1771.84 1517.6 1769.38 1518.36 Q1766.95 1519.13 1764.18 1520.68 L1764.18 1515.95 Q1767 1514.82 1769.45 1514.24 Q1771.91 1513.66 1773.94 1513.66 Q1779.31 1513.66 1782.51 1516.35 Q1785.7 1519.03 1785.7 1523.52 Q1785.7 1525.65 1784.89 1527.57 Q1784.11 1529.47 1782 1532.07 Q1781.42 1532.74 1778.32 1535.95 Q1775.22 1539.15 1769.57 1544.91 Z\" fill=\"#000000\" fill-rule=\"evenodd\" fill-opacity=\"1\" /><path clip-path=\"url(#clip300)\" d=\"M1795.75 1514.29 L1814.11 1514.29 L1814.11 1518.22 L1800.03 1518.22 L1800.03 1526.7 Q1801.05 1526.35 1802.07 1526.19 Q1803.09 1526 1804.11 1526 Q1809.89 1526 1813.27 1529.17 Q1816.65 1532.34 1816.65 1537.76 Q1816.65 1543.34 1813.18 1546.44 Q1809.71 1549.52 1803.39 1549.52 Q1801.21 1549.52 1798.94 1549.15 Q1796.7 1548.78 1794.29 1548.04 L1794.29 1543.34 Q1796.37 1544.47 1798.6 1545.03 Q1800.82 1545.58 1803.3 1545.58 Q1807.3 1545.58 1809.64 1543.48 Q1811.98 1541.37 1811.98 1537.76 Q1811.98 1534.15 1809.64 1532.04 Q1807.3 1529.94 1803.3 1529.94 Q1801.42 1529.94 1799.55 1530.35 Q1797.69 1530.77 1795.75 1531.65 L1795.75 1514.29 Z\" fill=\"#000000\" fill-rule=\"evenodd\" fill-opacity=\"1\" /><path clip-path=\"url(#clip300)\" d=\"M2281.34 1530.21 Q2284.69 1530.93 2286.57 1533.2 Q2288.46 1535.47 2288.46 1538.8 Q2288.46 1543.92 2284.95 1546.72 Q2281.43 1549.52 2274.95 1549.52 Q2272.77 1549.52 2270.46 1549.08 Q2268.16 1548.66 2265.71 1547.81 L2265.71 1543.29 Q2267.65 1544.43 2269.97 1545.01 Q2272.28 1545.58 2274.81 1545.58 Q2279.21 1545.58 2281.5 1543.85 Q2283.81 1542.11 2283.81 1538.8 Q2283.81 1535.75 2281.66 1534.03 Q2279.53 1532.3 2275.71 1532.3 L2271.68 1532.3 L2271.68 1528.45 L2275.9 1528.45 Q2279.34 1528.45 2281.17 1527.09 Q2283 1525.7 2283 1523.11 Q2283 1520.45 2281.1 1519.03 Q2279.23 1517.6 2275.71 1517.6 Q2273.79 1517.6 2271.59 1518.01 Q2269.39 1518.43 2266.75 1519.31 L2266.75 1515.14 Q2269.41 1514.4 2271.73 1514.03 Q2274.07 1513.66 2276.13 1513.66 Q2281.45 1513.66 2284.55 1516.09 Q2287.65 1518.5 2287.65 1522.62 Q2287.65 1525.49 2286.01 1527.48 Q2284.37 1529.45 2281.34 1530.21 Z\" fill=\"#000000\" fill-rule=\"evenodd\" fill-opacity=\"1\" /><path clip-path=\"url(#clip300)\" d=\"M2307.33 1517.37 Q2303.72 1517.37 2301.89 1520.93 Q2300.09 1524.47 2300.09 1531.6 Q2300.09 1538.71 2301.89 1542.27 Q2303.72 1545.82 2307.33 1545.82 Q2310.96 1545.82 2312.77 1542.27 Q2314.6 1538.71 2314.6 1531.6 Q2314.6 1524.47 2312.77 1520.93 Q2310.96 1517.37 2307.33 1517.37 M2307.33 1513.66 Q2313.14 1513.66 2316.2 1518.27 Q2319.27 1522.85 2319.27 1531.6 Q2319.27 1540.33 2316.2 1544.94 Q2313.14 1549.52 2307.33 1549.52 Q2301.52 1549.52 2298.44 1544.94 Q2295.39 1540.33 2295.39 1531.6 Q2295.39 1522.85 2298.44 1518.27 Q2301.52 1513.66 2307.33 1513.66 Z\" fill=\"#000000\" fill-rule=\"evenodd\" fill-opacity=\"1\" /><polyline clip-path=\"url(#clip302)\" style=\"stroke:#000000; stroke-linecap:butt; stroke-linejoin:round; stroke-width:2; stroke-opacity:0.1; fill:none\" points=\"\n",
       "  223.45,1407.35 2352.76,1407.35 \n",
       "  \"/>\n",
       "<polyline clip-path=\"url(#clip302)\" style=\"stroke:#000000; stroke-linecap:butt; stroke-linejoin:round; stroke-width:2; stroke-opacity:0.1; fill:none\" points=\"\n",
       "  223.45,967.559 2352.76,967.559 \n",
       "  \"/>\n",
       "<polyline clip-path=\"url(#clip302)\" style=\"stroke:#000000; stroke-linecap:butt; stroke-linejoin:round; stroke-width:2; stroke-opacity:0.1; fill:none\" points=\"\n",
       "  223.45,527.768 2352.76,527.768 \n",
       "  \"/>\n",
       "<polyline clip-path=\"url(#clip302)\" style=\"stroke:#000000; stroke-linecap:butt; stroke-linejoin:round; stroke-width:2; stroke-opacity:0.1; fill:none\" points=\"\n",
       "  223.45,87.9763 2352.76,87.9763 \n",
       "  \"/>\n",
       "<polyline clip-path=\"url(#clip300)\" style=\"stroke:#000000; stroke-linecap:butt; stroke-linejoin:round; stroke-width:4; stroke-opacity:1; fill:none\" points=\"\n",
       "  223.45,1486.45 223.45,47.2441 \n",
       "  \"/>\n",
       "<polyline clip-path=\"url(#clip300)\" style=\"stroke:#000000; stroke-linecap:butt; stroke-linejoin:round; stroke-width:4; stroke-opacity:1; fill:none\" points=\"\n",
       "  223.45,1407.35 242.347,1407.35 \n",
       "  \"/>\n",
       "<polyline clip-path=\"url(#clip300)\" style=\"stroke:#000000; stroke-linecap:butt; stroke-linejoin:round; stroke-width:4; stroke-opacity:1; fill:none\" points=\"\n",
       "  223.45,967.559 242.347,967.559 \n",
       "  \"/>\n",
       "<polyline clip-path=\"url(#clip300)\" style=\"stroke:#000000; stroke-linecap:butt; stroke-linejoin:round; stroke-width:4; stroke-opacity:1; fill:none\" points=\"\n",
       "  223.45,527.768 242.347,527.768 \n",
       "  \"/>\n",
       "<polyline clip-path=\"url(#clip300)\" style=\"stroke:#000000; stroke-linecap:butt; stroke-linejoin:round; stroke-width:4; stroke-opacity:1; fill:none\" points=\"\n",
       "  223.45,87.9763 242.347,87.9763 \n",
       "  \"/>\n",
       "<path clip-path=\"url(#clip300)\" d=\"M50.9921 1407.8 L80.6679 1407.8 L80.6679 1411.74 L50.9921 1411.74 L50.9921 1407.8 Z\" fill=\"#000000\" fill-rule=\"evenodd\" fill-opacity=\"1\" /><path clip-path=\"url(#clip300)\" d=\"M100.76 1393.15 Q97.1493 1393.15 95.3206 1396.71 Q93.515 1400.26 93.515 1407.39 Q93.515 1414.49 95.3206 1418.06 Q97.1493 1421.6 100.76 1421.6 Q104.395 1421.6 106.2 1418.06 Q108.029 1414.49 108.029 1407.39 Q108.029 1400.26 106.2 1396.71 Q104.395 1393.15 100.76 1393.15 M100.76 1389.45 Q106.571 1389.45 109.626 1394.05 Q112.705 1398.64 112.705 1407.39 Q112.705 1416.11 109.626 1420.72 Q106.571 1425.3 100.76 1425.3 Q94.9502 1425.3 91.8715 1420.72 Q88.816 1416.11 88.816 1407.39 Q88.816 1398.64 91.8715 1394.05 Q94.9502 1389.45 100.76 1389.45 Z\" fill=\"#000000\" fill-rule=\"evenodd\" fill-opacity=\"1\" /><path clip-path=\"url(#clip300)\" d=\"M120.922 1418.75 L125.807 1418.75 L125.807 1424.63 L120.922 1424.63 L120.922 1418.75 Z\" fill=\"#000000\" fill-rule=\"evenodd\" fill-opacity=\"1\" /><path clip-path=\"url(#clip300)\" d=\"M145.992 1393.15 Q142.381 1393.15 140.552 1396.71 Q138.746 1400.26 138.746 1407.39 Q138.746 1414.49 140.552 1418.06 Q142.381 1421.6 145.992 1421.6 Q149.626 1421.6 151.431 1418.06 Q153.26 1414.49 153.26 1407.39 Q153.26 1400.26 151.431 1396.71 Q149.626 1393.15 145.992 1393.15 M145.992 1389.45 Q151.802 1389.45 154.857 1394.05 Q157.936 1398.64 157.936 1407.39 Q157.936 1416.11 154.857 1420.72 Q151.802 1425.3 145.992 1425.3 Q140.181 1425.3 137.103 1420.72 Q134.047 1416.11 134.047 1407.39 Q134.047 1398.64 137.103 1394.05 Q140.181 1389.45 145.992 1389.45 Z\" fill=\"#000000\" fill-rule=\"evenodd\" fill-opacity=\"1\" /><path clip-path=\"url(#clip300)\" d=\"M180.32 1406 Q183.677 1406.71 185.552 1408.98 Q187.45 1411.25 187.45 1414.58 Q187.45 1419.7 183.931 1422.5 Q180.413 1425.3 173.931 1425.3 Q171.755 1425.3 169.441 1424.86 Q167.149 1424.45 164.695 1423.59 L164.695 1419.07 Q166.64 1420.21 168.954 1420.79 Q171.269 1421.37 173.792 1421.37 Q178.191 1421.37 180.482 1419.63 Q182.797 1417.89 182.797 1414.58 Q182.797 1411.53 180.644 1409.82 Q178.515 1408.08 174.695 1408.08 L170.667 1408.08 L170.667 1404.24 L174.88 1404.24 Q178.329 1404.24 180.158 1402.87 Q181.987 1401.48 181.987 1398.89 Q181.987 1396.23 180.089 1394.82 Q178.214 1393.38 174.695 1393.38 Q172.774 1393.38 170.575 1393.8 Q168.376 1394.21 165.737 1395.09 L165.737 1390.93 Q168.399 1390.19 170.714 1389.82 Q173.052 1389.45 175.112 1389.45 Q180.436 1389.45 183.538 1391.88 Q186.64 1394.28 186.64 1398.4 Q186.64 1401.27 184.996 1403.26 Q183.353 1405.23 180.32 1406 Z\" fill=\"#000000\" fill-rule=\"evenodd\" fill-opacity=\"1\" /><path clip-path=\"url(#clip300)\" d=\"M51.9412 968.01 L81.617 968.01 L81.617 971.946 L51.9412 971.946 L51.9412 968.01 Z\" fill=\"#000000\" fill-rule=\"evenodd\" fill-opacity=\"1\" /><path clip-path=\"url(#clip300)\" d=\"M101.709 953.358 Q98.0984 953.358 96.2697 956.923 Q94.4641 960.464 94.4641 967.594 Q94.4641 974.7 96.2697 978.265 Q98.0984 981.807 101.709 981.807 Q105.344 981.807 107.149 978.265 Q108.978 974.7 108.978 967.594 Q108.978 960.464 107.149 956.923 Q105.344 953.358 101.709 953.358 M101.709 949.654 Q107.52 949.654 110.575 954.261 Q113.654 958.844 113.654 967.594 Q113.654 976.321 110.575 980.927 Q107.52 985.51 101.709 985.51 Q95.8993 985.51 92.8206 980.927 Q89.7651 976.321 89.7651 967.594 Q89.7651 958.844 92.8206 954.261 Q95.8993 949.654 101.709 949.654 Z\" fill=\"#000000\" fill-rule=\"evenodd\" fill-opacity=\"1\" /><path clip-path=\"url(#clip300)\" d=\"M121.871 978.959 L126.756 978.959 L126.756 984.839 L121.871 984.839 L121.871 978.959 Z\" fill=\"#000000\" fill-rule=\"evenodd\" fill-opacity=\"1\" /><path clip-path=\"url(#clip300)\" d=\"M146.941 953.358 Q143.33 953.358 141.501 956.923 Q139.695 960.464 139.695 967.594 Q139.695 974.7 141.501 978.265 Q143.33 981.807 146.941 981.807 Q150.575 981.807 152.38 978.265 Q154.209 974.7 154.209 967.594 Q154.209 960.464 152.38 956.923 Q150.575 953.358 146.941 953.358 M146.941 949.654 Q152.751 949.654 155.806 954.261 Q158.885 958.844 158.885 967.594 Q158.885 976.321 155.806 980.927 Q152.751 985.51 146.941 985.51 Q141.131 985.51 138.052 980.927 Q134.996 976.321 134.996 967.594 Q134.996 958.844 138.052 954.261 Q141.131 949.654 146.941 949.654 Z\" fill=\"#000000\" fill-rule=\"evenodd\" fill-opacity=\"1\" /><path clip-path=\"url(#clip300)\" d=\"M171.13 980.904 L187.45 980.904 L187.45 984.839 L165.505 984.839 L165.505 980.904 Q168.167 978.149 172.751 973.52 Q177.357 968.867 178.538 967.524 Q180.783 965.001 181.663 963.265 Q182.565 961.506 182.565 959.816 Q182.565 957.061 180.621 955.325 Q178.7 953.589 175.598 953.589 Q173.399 953.589 170.945 954.353 Q168.515 955.117 165.737 956.668 L165.737 951.946 Q168.561 950.811 171.015 950.233 Q173.468 949.654 175.505 949.654 Q180.876 949.654 184.07 952.339 Q187.265 955.024 187.265 959.515 Q187.265 961.645 186.454 963.566 Q185.667 965.464 183.561 968.057 Q182.982 968.728 179.88 971.946 Q176.778 975.14 171.13 980.904 Z\" fill=\"#000000\" fill-rule=\"evenodd\" fill-opacity=\"1\" /><path clip-path=\"url(#clip300)\" d=\"M51.5708 528.219 L81.2466 528.219 L81.2466 532.154 L51.5708 532.154 L51.5708 528.219 Z\" fill=\"#000000\" fill-rule=\"evenodd\" fill-opacity=\"1\" /><path clip-path=\"url(#clip300)\" d=\"M101.339 513.566 Q97.728 513.566 95.8993 517.131 Q94.0937 520.673 94.0937 527.802 Q94.0937 534.909 95.8993 538.474 Q97.728 542.015 101.339 542.015 Q104.973 542.015 106.779 538.474 Q108.608 534.909 108.608 527.802 Q108.608 520.673 106.779 517.131 Q104.973 513.566 101.339 513.566 M101.339 509.863 Q107.149 509.863 110.205 514.469 Q113.283 519.052 113.283 527.802 Q113.283 536.529 110.205 541.136 Q107.149 545.719 101.339 545.719 Q95.5289 545.719 92.4502 541.136 Q89.3947 536.529 89.3947 527.802 Q89.3947 519.052 92.4502 514.469 Q95.5289 509.863 101.339 509.863 Z\" fill=\"#000000\" fill-rule=\"evenodd\" fill-opacity=\"1\" /><path clip-path=\"url(#clip300)\" d=\"M121.501 539.168 L126.385 539.168 L126.385 545.048 L121.501 545.048 L121.501 539.168 Z\" fill=\"#000000\" fill-rule=\"evenodd\" fill-opacity=\"1\" /><path clip-path=\"url(#clip300)\" d=\"M146.57 513.566 Q142.959 513.566 141.131 517.131 Q139.325 520.673 139.325 527.802 Q139.325 534.909 141.131 538.474 Q142.959 542.015 146.57 542.015 Q150.205 542.015 152.01 538.474 Q153.839 534.909 153.839 527.802 Q153.839 520.673 152.01 517.131 Q150.205 513.566 146.57 513.566 M146.57 509.863 Q152.38 509.863 155.436 514.469 Q158.515 519.052 158.515 527.802 Q158.515 536.529 155.436 541.136 Q152.38 545.719 146.57 545.719 Q140.76 545.719 137.681 541.136 Q134.626 536.529 134.626 527.802 Q134.626 519.052 137.681 514.469 Q140.76 509.863 146.57 509.863 Z\" fill=\"#000000\" fill-rule=\"evenodd\" fill-opacity=\"1\" /><path clip-path=\"url(#clip300)\" d=\"M167.542 541.112 L175.181 541.112 L175.181 514.747 L166.871 516.414 L166.871 512.154 L175.135 510.488 L179.811 510.488 L179.811 541.112 L187.45 541.112 L187.45 545.048 L167.542 545.048 L167.542 541.112 Z\" fill=\"#000000\" fill-rule=\"evenodd\" fill-opacity=\"1\" /><path clip-path=\"url(#clip300)\" d=\"M100.112 73.775 Q96.5011 73.775 94.6724 77.3398 Q92.8669 80.8814 92.8669 88.011 Q92.8669 95.1174 94.6724 98.6822 Q96.5011 102.224 100.112 102.224 Q103.746 102.224 105.552 98.6822 Q107.381 95.1174 107.381 88.011 Q107.381 80.8814 105.552 77.3398 Q103.746 73.775 100.112 73.775 M100.112 70.0713 Q105.922 70.0713 108.978 74.6777 Q112.057 79.261 112.057 88.011 Q112.057 96.7378 108.978 101.344 Q105.922 105.928 100.112 105.928 Q94.3021 105.928 91.2234 101.344 Q88.1679 96.7378 88.1679 88.011 Q88.1679 79.261 91.2234 74.6777 Q94.3021 70.0713 100.112 70.0713 Z\" fill=\"#000000\" fill-rule=\"evenodd\" fill-opacity=\"1\" /><path clip-path=\"url(#clip300)\" d=\"M120.274 99.3767 L125.158 99.3767 L125.158 105.256 L120.274 105.256 L120.274 99.3767 Z\" fill=\"#000000\" fill-rule=\"evenodd\" fill-opacity=\"1\" /><path clip-path=\"url(#clip300)\" d=\"M145.343 73.775 Q141.732 73.775 139.904 77.3398 Q138.098 80.8814 138.098 88.011 Q138.098 95.1174 139.904 98.6822 Q141.732 102.224 145.343 102.224 Q148.978 102.224 150.783 98.6822 Q152.612 95.1174 152.612 88.011 Q152.612 80.8814 150.783 77.3398 Q148.978 73.775 145.343 73.775 M145.343 70.0713 Q151.154 70.0713 154.209 74.6777 Q157.288 79.261 157.288 88.011 Q157.288 96.7378 154.209 101.344 Q151.154 105.928 145.343 105.928 Q139.533 105.928 136.455 101.344 Q133.399 96.7378 133.399 88.011 Q133.399 79.261 136.455 74.6777 Q139.533 70.0713 145.343 70.0713 Z\" fill=\"#000000\" fill-rule=\"evenodd\" fill-opacity=\"1\" /><path clip-path=\"url(#clip300)\" d=\"M175.505 73.775 Q171.894 73.775 170.066 77.3398 Q168.26 80.8814 168.26 88.011 Q168.26 95.1174 170.066 98.6822 Q171.894 102.224 175.505 102.224 Q179.14 102.224 180.945 98.6822 Q182.774 95.1174 182.774 88.011 Q182.774 80.8814 180.945 77.3398 Q179.14 73.775 175.505 73.775 M175.505 70.0713 Q181.316 70.0713 184.371 74.6777 Q187.45 79.261 187.45 88.011 Q187.45 96.7378 184.371 101.344 Q181.316 105.928 175.505 105.928 Q169.695 105.928 166.617 101.344 Q163.561 96.7378 163.561 88.011 Q163.561 79.261 166.617 74.6777 Q169.695 70.0713 175.505 70.0713 Z\" fill=\"#000000\" fill-rule=\"evenodd\" fill-opacity=\"1\" /><polyline clip-path=\"url(#clip302)\" style=\"stroke:#009af9; stroke-linecap:butt; stroke-linejoin:round; stroke-width:4; stroke-opacity:1; fill:none\" points=\"\n",
       "  2292.49,1445.72 2236.69,1414.75 2180.89,1383.03 2125.09,1350.57 2069.29,1317.33 2013.5,1283.3 1957.7,1248.47 1901.9,1212.83 1846.1,1176.36 1790.3,1139.06 \n",
       "  1689.86,1069.79 1645.22,1038.12 1600.58,1005.91 1555.94,973.167 1511.3,939.886 1466.66,906.08 1422.02,871.759 1377.38,836.938 1332.74,801.635 1288.1,765.872 \n",
       "  1187.66,683.885 1165.34,665.413 1143.02,646.861 1120.7,628.237 1098.38,609.548 1076.06,590.803 1053.75,572.01 1031.43,553.179 1009.11,534.321 986.786,515.448 \n",
       "  976.742,506.954 955.538,489.025 934.334,471.111 913.131,453.227 891.927,435.387 870.723,417.606 849.519,399.902 828.316,382.293 807.112,364.8 785.908,347.446 \n",
       "  876.303,422.278 855.099,404.552 833.895,386.916 812.692,369.391 791.488,351.998 770.284,334.761 749.08,317.706 727.877,300.861 706.673,284.258 685.469,267.929 \n",
       "  675.425,260.301 665.381,252.748 655.337,245.273 645.293,237.882 635.25,230.579 625.206,223.369 615.162,216.259 605.118,209.252 595.074,202.356 585.03,195.577 \n",
       "  574.986,188.92 564.942,182.394 554.898,176.004 544.854,169.759 534.811,163.666 524.767,157.734 514.723,151.972 504.679,146.388 494.635,140.991 484.591,135.793 \n",
       "  474.547,130.803 464.503,126.033 454.459,121.492 444.415,117.194 434.372,113.149 424.328,109.371 414.284,105.87 404.24,102.66 394.196,99.7521 384.152,97.1567 \n",
       "  374.108,94.8839 364.064,92.9413 354.02,91.3335 343.976,90.0605 333.933,89.1156 323.889,88.4816 313.845,88.1259 303.801,87.9908 293.757,87.9763 283.713,87.9763 \n",
       "  \n",
       "  \"/>\n",
       "<path clip-path=\"url(#clip300)\" d=\"\n",
       "M1992.76 198.898 L2281.78 198.898 L2281.78 95.2176 L1992.76 95.2176  Z\n",
       "  \" fill=\"#ffffff\" fill-rule=\"evenodd\" fill-opacity=\"1\"/>\n",
       "<polyline clip-path=\"url(#clip300)\" style=\"stroke:#000000; stroke-linecap:butt; stroke-linejoin:round; stroke-width:4; stroke-opacity:1; fill:none\" points=\"\n",
       "  1992.76,198.898 2281.78,198.898 2281.78,95.2176 1992.76,95.2176 1992.76,198.898 \n",
       "  \"/>\n",
       "<polyline clip-path=\"url(#clip300)\" style=\"stroke:#009af9; stroke-linecap:butt; stroke-linejoin:round; stroke-width:4; stroke-opacity:1; fill:none\" points=\"\n",
       "  2016.42,147.058 2158.37,147.058 \n",
       "  \"/>\n",
       "<path clip-path=\"url(#clip300)\" d=\"M2195.87 166.745 Q2194.07 171.375 2192.35 172.787 Q2190.64 174.199 2187.77 174.199 L2184.37 174.199 L2184.37 170.634 L2186.87 170.634 Q2188.63 170.634 2189.6 169.8 Q2190.57 168.967 2191.75 165.865 L2192.52 163.921 L2182.03 138.412 L2186.54 138.412 L2194.65 158.689 L2202.75 138.412 L2207.26 138.412 L2195.87 166.745 Z\" fill=\"#000000\" fill-rule=\"evenodd\" fill-opacity=\"1\" /><path clip-path=\"url(#clip300)\" d=\"M2214.55 160.402 L2222.19 160.402 L2222.19 134.037 L2213.88 135.703 L2213.88 131.444 L2222.15 129.778 L2226.82 129.778 L2226.82 160.402 L2234.46 160.402 L2234.46 164.338 L2214.55 164.338 L2214.55 160.402 Z\" fill=\"#000000\" fill-rule=\"evenodd\" fill-opacity=\"1\" /></svg>\n"
      ]
     },
     "metadata": {},
     "output_type": "display_data"
    }
   ],
   "source": [
    "plot(getindex.(res, 1), getindex.(res, 2))"
   ]
  },
  {
   "cell_type": "code",
   "execution_count": 137,
   "metadata": {},
   "outputs": [
    {
     "data": {
      "text/plain": [
       "90-element Vector{Any}:\n",
       " [30.0, -0.03087235124051324]\n",
       " [29.444444444444443, -0.03016814806538426]\n",
       " [28.88888888888889, -0.029447110439158874]\n",
       " [28.333333333333332, -0.028708869814664473]\n",
       " [27.77777777777778, -0.02795306928273278]\n",
       " [27.22222222222222, -0.027179367945448507]\n",
       " [26.666666666666668, -0.02638744659797454]\n",
       " [26.11111111111111, -0.02557701232311904]\n",
       " [25.555555555555557, -0.024747807677402978]\n",
       " [25.0, -0.02389961712516131]\n",
       " ⋮\n",
       " [10.8, -0.00011289414035034473]\n",
       " [10.7, -7.633600900527893e-5]\n",
       " [10.6, -4.739135535450356e-5]\n",
       " [10.5, -2.5905509984602837e-5]\n",
       " [10.4, -1.1490930255014797e-5]\n",
       " [10.3, -3.403169473115142e-6]\n",
       " [10.2, -3.2951302722517006e-7]\n",
       " [10.1, 1.431965657161527e-12]\n",
       " [10.0, -1.028066520802895e-13]"
      ]
     },
     "metadata": {},
     "output_type": "display_data"
    }
   ],
   "source": [
    "res"
   ]
  },
  {
   "cell_type": "markdown",
   "metadata": {},
   "source": [
    "## AAAA"
   ]
  },
  {
   "cell_type": "code",
   "execution_count": 27,
   "metadata": {},
   "outputs": [
    {
     "data": {
      "text/plain": [
       "(-2.246212740267824, 0.1, 0.010081777054766618, 0.010081777060519683, 0.0013581062953632625, [3.286643870616116e-9, 9.416436947936694e-10, 6.008329750395447e-9], 1.0, 31)"
      ]
     },
     "metadata": {},
     "output_type": "display_data"
    }
   ],
   "source": [
    "RSB1_SP_fixM(1., 0.1, init_h = -0.55, init_q0 = 0.001, init_q1 = 0.01)"
   ]
  },
  {
   "cell_type": "code",
   "execution_count": null,
   "metadata": {},
   "outputs": [],
   "source": [
    "\n"
   ]
  },
  {
   "cell_type": "code",
   "execution_count": 19,
   "metadata": {},
   "outputs": [
    {
     "data": {
      "text/plain": [
       "(0.8149717096923914, -0.005554009918113945, (-0.4711776892592392, 0.3577860224280491, 0.3824879481015493, 1.0))"
      ]
     },
     "metadata": {},
     "output_type": "display_data"
    }
   ],
   "source": [
    "complexity(15., 0.4, verbose = false, init_h = -0.5, init_q0 = 0.1, init_q1 = 0.9)"
   ]
  },
  {
   "cell_type": "code",
   "execution_count": 109,
   "metadata": {},
   "outputs": [
    {
     "data": {
      "text/plain": [
       "100-element Vector{Tuple{Float64, Float64, Float64}}:\n",
       " (22.25, -0.2832277171705712, 0.01941142220946407)\n",
       " (22.657894736842106, -0.28826821223926546, 0.020106661944207405)\n",
       " (23.06578947368421, -0.2932907148434699, 0.020789679523831706)\n",
       " (23.473684210526315, -0.2983093861946873, 0.021475637897314936)\n",
       " (23.88157894736842, -0.3033085022046297, 0.022128847104536997)\n",
       " (24.289473684210527, -0.30830726655490914, 0.022793544050163872)\n",
       " (24.69736842105263, -0.31328914898642723, 0.023423119257540037)\n",
       " (25.105263157894736, -0.3182749459289521, 0.02406768812668897)\n",
       " (25.513157894736842, -0.32324469234714215, 0.02467640764639295)\n",
       " (25.92105263157895, -0.3282155772909112, 0.02528844573429978)\n",
       " ⋮\n",
       " (20.166666666666668, -0.25721892256110396, 0.015711919699472998)\n",
       " (20.285714285714285, -0.2587345214864152, 0.015937350791699112)\n",
       " (20.714285714285715, -0.2641195857928469, 0.01671574790358671)\n",
       " (20.77777777777778, -0.26491440827392293, 0.016824997959917043)\n",
       " (21.142857142857142, -0.2694803117467602, 0.017485447996687276)\n",
       " (21.38888888888889, -0.27254972857671395, 0.017916059569849152)\n",
       " (21.571428571428573, -0.27481861190598106, 0.01823745517083586)\n",
       " (22.0, -0.2801347835134411, 0.018982716166119573)\n",
       " (22.0, -0.2801357327575579, 0.018980389678463494)"
      ]
     },
     "metadata": {},
     "output_type": "display_data"
    }
   ],
   "source": [
    "bs = linspace(22.25, 30., 20)\n",
    "res = vcat(map(beta->(beta, complexity(beta, 0.1, init_h = -0.55, init_q0 = 0.001, init_q1 = 0.01)[1:2]...), bs), res)"
   ]
  },
  {
   "cell_type": "code",
   "execution_count": 126,
   "metadata": {},
   "outputs": [
    {
     "data": {
      "image/png": "[encoded data removed]",
      "image/svg+xml": "<?xml version=\"1.0\" encoding=\"utf-8\"?>\n<svg xmlns=\"http://www.w3.org/2000/svg\" xmlns:xlink=\"http://www.w3.org/1999/xlink\" width=\"600\" height=\"400\" viewBox=\"0 0 2400 1600\">\n<defs>\n  <clipPath id=\"clip970\">\n    <rect x=\"0\" y=\"0\" width=\"2400\" height=\"1600\"/>\n  </clipPath>\n</defs>\n<path clip-path=\"url(#clip970)\" d=\"\nM0 1600 L2400 1600 L2400 0 L0 0  Z\n  \" fill=\"#ffffff\" fill-rule=\"evenodd\" fill-opacity=\"1\"/>\n<defs>\n  <clipPath id=\"clip971\">\n    <rect x=\"480\" y=\"0\" width=\"1681\" height=\"1600\"/>\n  </clipPath>\n</defs>\n<path clip-path=\"url(#clip970)\" d=\"\nM186.274 1486.45 L2352.76 1486.45 L2352.76 47.2441 L186.274 47.2441  Z\n  \" fill=\"#ffffff\" fill-rule=\"evenodd\" fill-opacity=\"1\"/>\n<defs>\n  <clipPath id=\"clip972\">\n    <rect x=\"186\" y=\"47\" width=\"2167\" height=\"1440\"/>\n  </clipPath>\n</defs>\n<polyline clip-path=\"url(#clip972)\" style=\"stroke:#000000; stroke-linecap:butt; stroke-linejoin:round; stroke-width:2; stroke-opacity:0.1; fill:none\" points=\"\n  529.5,1486.45 529.5,47.2441 \n  \"/>\n<polyline clip-path=\"url(#clip972)\" style=\"stroke:#000000; stroke-linecap:butt; stroke-linejoin:round; stroke-width:2; stroke-opacity:0.1; fill:none\" points=\"\n  881.888,1486.45 881.888,47.2441 \n  \"/>\n<polyline clip-path=\"url(#clip972)\" style=\"stroke:#000000; stroke-linecap:butt; stroke-linejoin:round; stroke-width:2; stroke-opacity:0.1; fill:none\" points=\"\n  1234.28,1486.45 1234.28,47.2441 \n  \"/>\n<polyline clip-path=\"url(#clip972)\" style=\"stroke:#000000; stroke-linecap:butt; stroke-linejoin:round; stroke-width:2; stroke-opacity:0.1; fill:none\" points=\"\n  1586.66,1486.45 1586.66,47.2441 \n  \"/>\n<polyline clip-path=\"url(#clip972)\" style=\"stroke:#000000; stroke-linecap:butt; stroke-linejoin:round; stroke-width:2; stroke-opacity:0.1; fill:none\" points=\"\n  1939.05,1486.45 1939.05,47.2441 \n  \"/>\n<polyline clip-path=\"url(#clip972)\" style=\"stroke:#000000; stroke-linecap:butt; stroke-linejoin:round; stroke-width:2; stroke-opacity:0.1; fill:none\" points=\"\n  2291.44,1486.45 2291.44,47.2441 \n  \"/>\n<polyline clip-path=\"url(#clip970)\" style=\"stroke:#000000; stroke-linecap:butt; stroke-linejoin:round; stroke-width:4; stroke-opacity:1; fill:none\" points=\"\n  186.274,1486.45 2352.76,1486.45 \n  \"/>\n<polyline clip-path=\"url(#clip970)\" style=\"stroke:#000000; stroke-linecap:butt; stroke-linejoin:round; stroke-width:4; stroke-opacity:1; fill:none\" points=\"\n  529.5,1486.45 529.5,1467.55 \n  \"/>\n<polyline clip-path=\"url(#clip970)\" style=\"stroke:#000000; stroke-linecap:butt; stroke-linejoin:round; stroke-width:4; stroke-opacity:1; fill:none\" points=\"\n  881.888,1486.45 881.888,1467.55 \n  \"/>\n<polyline clip-path=\"url(#clip970)\" style=\"stroke:#000000; stroke-linecap:butt; stroke-linejoin:round; stroke-width:4; stroke-opacity:1; fill:none\" points=\"\n  1234.28,1486.45 1234.28,1467.55 \n  \"/>\n<polyline clip-path=\"url(#clip970)\" style=\"stroke:#000000; stroke-linecap:butt; stroke-linejoin:round; stroke-width:4; stroke-opacity:1; fill:none\" points=\"\n  1586.66,1486.45 1586.66,1467.55 \n  \"/>\n<polyline clip-path=\"url(#clip970)\" style=\"stroke:#000000; stroke-linecap:butt; stroke-linejoin:round; stroke-width:4; stroke-opacity:1; fill:none\" points=\"\n  1939.05,1486.45 1939.05,1467.55 \n  \"/>\n<polyline clip-path=\"url(#clip970)\" style=\"stroke:#000000; stroke-linecap:butt; stroke-linejoin:round; stroke-width:4; stroke-opacity:1; fill:none\" points=\"\n  2291.44,1486.45 2291.44,1467.55 \n  \"/>\n<path clip-path=\"url(#clip970)\" d=\"M519.778 1514.29 L538.134 1514.29 L538.134 1518.22 L524.06 1518.22 L524.06 1526.7 Q525.079 1526.35 526.097 1526.19 Q527.116 1526 528.134 1526 Q533.921 1526 537.301 1529.17 Q540.68 1532.34 540.68 1537.76 Q540.68 1543.34 537.208 1546.44 Q533.736 1549.52 527.417 1549.52 Q525.241 1549.52 522.972 1549.15 Q520.727 1548.78 518.319 1548.04 L518.319 1543.34 Q520.403 1544.47 522.625 1545.03 Q524.847 1545.58 527.324 1545.58 Q531.329 1545.58 533.667 1543.48 Q536.005 1541.37 536.005 1537.76 Q536.005 1534.15 533.667 1532.04 Q531.329 1529.94 527.324 1529.94 Q525.449 1529.94 523.574 1530.35 Q521.722 1530.77 519.778 1531.65 L519.778 1514.29 Z\" fill=\"#000000\" fill-rule=\"evenodd\" fill-opacity=\"1\" /><path clip-path=\"url(#clip970)\" d=\"M856.576 1544.91 L864.215 1544.91 L864.215 1518.55 L855.904 1520.21 L855.904 1515.95 L864.168 1514.29 L868.844 1514.29 L868.844 1544.91 L876.483 1544.91 L876.483 1548.85 L856.576 1548.85 L856.576 1544.91 Z\" fill=\"#000000\" fill-rule=\"evenodd\" fill-opacity=\"1\" /><path clip-path=\"url(#clip970)\" d=\"M895.927 1517.37 Q892.316 1517.37 890.488 1520.93 Q888.682 1524.47 888.682 1531.6 Q888.682 1538.71 890.488 1542.27 Q892.316 1545.82 895.927 1545.82 Q899.562 1545.82 901.367 1542.27 Q903.196 1538.71 903.196 1531.6 Q903.196 1524.47 901.367 1520.93 Q899.562 1517.37 895.927 1517.37 M895.927 1513.66 Q901.737 1513.66 904.793 1518.27 Q907.872 1522.85 907.872 1531.6 Q907.872 1540.33 904.793 1544.94 Q901.737 1549.52 895.927 1549.52 Q890.117 1549.52 887.039 1544.94 Q883.983 1540.33 883.983 1531.6 Q883.983 1522.85 887.039 1518.27 Q890.117 1513.66 895.927 1513.66 Z\" fill=\"#000000\" fill-rule=\"evenodd\" fill-opacity=\"1\" /><path clip-path=\"url(#clip970)\" d=\"M1209.46 1544.91 L1217.1 1544.91 L1217.1 1518.55 L1208.79 1520.21 L1208.79 1515.95 L1217.05 1514.29 L1221.73 1514.29 L1221.73 1544.91 L1229.37 1544.91 L1229.37 1548.85 L1209.46 1548.85 L1209.46 1544.91 Z\" fill=\"#000000\" fill-rule=\"evenodd\" fill-opacity=\"1\" /><path clip-path=\"url(#clip970)\" d=\"M1238.86 1514.29 L1257.22 1514.29 L1257.22 1518.22 L1243.14 1518.22 L1243.14 1526.7 Q1244.16 1526.35 1245.18 1526.19 Q1246.2 1526 1247.22 1526 Q1253 1526 1256.38 1529.17 Q1259.76 1532.34 1259.76 1537.76 Q1259.76 1543.34 1256.29 1546.44 Q1252.82 1549.52 1246.5 1549.52 Q1244.32 1549.52 1242.05 1549.15 Q1239.81 1548.78 1237.4 1548.04 L1237.4 1543.34 Q1239.48 1544.47 1241.71 1545.03 Q1243.93 1545.58 1246.41 1545.58 Q1250.41 1545.58 1252.75 1543.48 Q1255.09 1541.37 1255.09 1537.76 Q1255.09 1534.15 1252.75 1532.04 Q1250.41 1529.94 1246.41 1529.94 Q1244.53 1529.94 1242.66 1530.35 Q1240.8 1530.77 1238.86 1531.65 L1238.86 1514.29 Z\" fill=\"#000000\" fill-rule=\"evenodd\" fill-opacity=\"1\" /><path clip-path=\"url(#clip970)\" d=\"M1565.44 1544.91 L1581.76 1544.91 L1581.76 1548.85 L1559.81 1548.85 L1559.81 1544.91 Q1562.47 1542.16 1567.06 1537.53 Q1571.66 1532.88 1572.84 1531.53 Q1575.09 1529.01 1575.97 1527.27 Q1576.87 1525.51 1576.87 1523.82 Q1576.87 1521.07 1574.93 1519.33 Q1573.01 1517.6 1569.91 1517.6 Q1567.71 1517.6 1565.25 1518.36 Q1562.82 1519.13 1560.04 1520.68 L1560.04 1515.95 Q1562.87 1514.82 1565.32 1514.24 Q1567.78 1513.66 1569.81 1513.66 Q1575.18 1513.66 1578.38 1516.35 Q1581.57 1519.03 1581.57 1523.52 Q1581.57 1525.65 1580.76 1527.57 Q1579.97 1529.47 1577.87 1532.07 Q1577.29 1532.74 1574.19 1535.95 Q1571.09 1539.15 1565.44 1544.91 Z\" fill=\"#000000\" fill-rule=\"evenodd\" fill-opacity=\"1\" /><path clip-path=\"url(#clip970)\" d=\"M1601.57 1517.37 Q1597.96 1517.37 1596.13 1520.93 Q1594.33 1524.47 1594.33 1531.6 Q1594.33 1538.71 1596.13 1542.27 Q1597.96 1545.82 1601.57 1545.82 Q1605.21 1545.82 1607.01 1542.27 Q1608.84 1538.71 1608.84 1531.6 Q1608.84 1524.47 1607.01 1520.93 Q1605.21 1517.37 1601.57 1517.37 M1601.57 1513.66 Q1607.38 1513.66 1610.44 1518.27 Q1613.52 1522.85 1613.52 1531.6 Q1613.52 1540.33 1610.44 1544.94 Q1607.38 1549.52 1601.57 1549.52 Q1595.76 1549.52 1592.68 1544.94 Q1589.63 1540.33 1589.63 1531.6 Q1589.63 1522.85 1592.68 1518.27 Q1595.76 1513.66 1601.57 1513.66 Z\" fill=\"#000000\" fill-rule=\"evenodd\" fill-opacity=\"1\" /><path clip-path=\"url(#clip970)\" d=\"M1918.32 1544.91 L1934.64 1544.91 L1934.64 1548.85 L1912.7 1548.85 L1912.7 1544.91 Q1915.36 1542.16 1919.94 1537.53 Q1924.55 1532.88 1925.73 1531.53 Q1927.98 1529.01 1928.86 1527.27 Q1929.76 1525.51 1929.76 1523.82 Q1929.76 1521.07 1927.81 1519.33 Q1925.89 1517.6 1922.79 1517.6 Q1920.59 1517.6 1918.14 1518.36 Q1915.71 1519.13 1912.93 1520.68 L1912.93 1515.95 Q1915.75 1514.82 1918.21 1514.24 Q1920.66 1513.66 1922.7 1513.66 Q1928.07 1513.66 1931.26 1516.35 Q1934.46 1519.03 1934.46 1523.52 Q1934.46 1525.65 1933.65 1527.57 Q1932.86 1529.47 1930.75 1532.07 Q1930.18 1532.74 1927.07 1535.95 Q1923.97 1539.15 1918.32 1544.91 Z\" fill=\"#000000\" fill-rule=\"evenodd\" fill-opacity=\"1\" /><path clip-path=\"url(#clip970)\" d=\"M1944.5 1514.29 L1962.86 1514.29 L1962.86 1518.22 L1948.79 1518.22 L1948.79 1526.7 Q1949.8 1526.35 1950.82 1526.19 Q1951.84 1526 1952.86 1526 Q1958.65 1526 1962.03 1529.17 Q1965.41 1532.34 1965.41 1537.76 Q1965.41 1543.34 1961.93 1546.44 Q1958.46 1549.52 1952.14 1549.52 Q1949.97 1549.52 1947.7 1549.15 Q1945.45 1548.78 1943.05 1548.04 L1943.05 1543.34 Q1945.13 1544.47 1947.35 1545.03 Q1949.57 1545.58 1952.05 1545.58 Q1956.05 1545.58 1958.39 1543.48 Q1960.73 1541.37 1960.73 1537.76 Q1960.73 1534.15 1958.39 1532.04 Q1956.05 1529.94 1952.05 1529.94 Q1950.17 1529.94 1948.3 1530.35 Q1946.45 1530.77 1944.5 1531.65 L1944.5 1514.29 Z\" fill=\"#000000\" fill-rule=\"evenodd\" fill-opacity=\"1\" /><path clip-path=\"url(#clip970)\" d=\"M2280.28 1530.21 Q2283.64 1530.93 2285.51 1533.2 Q2287.41 1535.47 2287.41 1538.8 Q2287.41 1543.92 2283.89 1546.72 Q2280.38 1549.52 2273.89 1549.52 Q2271.72 1549.52 2269.4 1549.08 Q2267.11 1548.66 2264.66 1547.81 L2264.66 1543.29 Q2266.6 1544.43 2268.92 1545.01 Q2271.23 1545.58 2273.76 1545.58 Q2278.15 1545.58 2280.45 1543.85 Q2282.76 1542.11 2282.76 1538.8 Q2282.76 1535.75 2280.61 1534.03 Q2278.48 1532.3 2274.66 1532.3 L2270.63 1532.3 L2270.63 1528.45 L2274.84 1528.45 Q2278.29 1528.45 2280.12 1527.09 Q2281.95 1525.7 2281.95 1523.11 Q2281.95 1520.45 2280.05 1519.03 Q2278.18 1517.6 2274.66 1517.6 Q2272.74 1517.6 2270.54 1518.01 Q2268.34 1518.43 2265.7 1519.31 L2265.7 1515.14 Q2268.36 1514.4 2270.68 1514.03 Q2273.01 1513.66 2275.07 1513.66 Q2280.4 1513.66 2283.5 1516.09 Q2286.6 1518.5 2286.6 1522.62 Q2286.6 1525.49 2284.96 1527.48 Q2283.32 1529.45 2280.28 1530.21 Z\" fill=\"#000000\" fill-rule=\"evenodd\" fill-opacity=\"1\" /><path clip-path=\"url(#clip970)\" d=\"M2306.28 1517.37 Q2302.67 1517.37 2300.84 1520.93 Q2299.03 1524.47 2299.03 1531.6 Q2299.03 1538.71 2300.84 1542.27 Q2302.67 1545.82 2306.28 1545.82 Q2309.91 1545.82 2311.72 1542.27 Q2313.55 1538.71 2313.55 1531.6 Q2313.55 1524.47 2311.72 1520.93 Q2309.91 1517.37 2306.28 1517.37 M2306.28 1513.66 Q2312.09 1513.66 2315.14 1518.27 Q2318.22 1522.85 2318.22 1531.6 Q2318.22 1540.33 2315.14 1544.94 Q2312.09 1549.52 2306.28 1549.52 Q2300.47 1549.52 2297.39 1544.94 Q2294.33 1540.33 2294.33 1531.6 Q2294.33 1522.85 2297.39 1518.27 Q2300.47 1513.66 2306.28 1513.66 Z\" fill=\"#000000\" fill-rule=\"evenodd\" fill-opacity=\"1\" /><polyline clip-path=\"url(#clip972)\" style=\"stroke:#000000; stroke-linecap:butt; stroke-linejoin:round; stroke-width:2; stroke-opacity:0.1; fill:none\" points=\"\n  186.274,1445.71 2352.76,1445.71 \n  \"/>\n<polyline clip-path=\"url(#clip972)\" style=\"stroke:#000000; stroke-linecap:butt; stroke-linejoin:round; stroke-width:2; stroke-opacity:0.1; fill:none\" points=\"\n  186.274,1005.8 2352.76,1005.8 \n  \"/>\n<polyline clip-path=\"url(#clip972)\" style=\"stroke:#000000; stroke-linecap:butt; stroke-linejoin:round; stroke-width:2; stroke-opacity:0.1; fill:none\" points=\"\n  186.274,565.89 2352.76,565.89 \n  \"/>\n<polyline clip-path=\"url(#clip972)\" style=\"stroke:#000000; stroke-linecap:butt; stroke-linejoin:round; stroke-width:2; stroke-opacity:0.1; fill:none\" points=\"\n  186.274,125.981 2352.76,125.981 \n  \"/>\n<polyline clip-path=\"url(#clip970)\" style=\"stroke:#000000; stroke-linecap:butt; stroke-linejoin:round; stroke-width:4; stroke-opacity:1; fill:none\" points=\"\n  186.274,1486.45 186.274,47.2441 \n  \"/>\n<polyline clip-path=\"url(#clip970)\" style=\"stroke:#000000; stroke-linecap:butt; stroke-linejoin:round; stroke-width:4; stroke-opacity:1; fill:none\" points=\"\n  186.274,1445.71 205.172,1445.71 \n  \"/>\n<polyline clip-path=\"url(#clip970)\" style=\"stroke:#000000; stroke-linecap:butt; stroke-linejoin:round; stroke-width:4; stroke-opacity:1; fill:none\" points=\"\n  186.274,1005.8 205.172,1005.8 \n  \"/>\n<polyline clip-path=\"url(#clip970)\" style=\"stroke:#000000; stroke-linecap:butt; stroke-linejoin:round; stroke-width:4; stroke-opacity:1; fill:none\" points=\"\n  186.274,565.89 205.172,565.89 \n  \"/>\n<polyline clip-path=\"url(#clip970)\" style=\"stroke:#000000; stroke-linecap:butt; stroke-linejoin:round; stroke-width:4; stroke-opacity:1; fill:none\" points=\"\n  186.274,125.981 205.172,125.981 \n  \"/>\n<path clip-path=\"url(#clip970)\" d=\"M62.9365 1431.5 Q59.3254 1431.5 57.4967 1435.07 Q55.6912 1438.61 55.6912 1445.74 Q55.6912 1452.85 57.4967 1456.41 Q59.3254 1459.95 62.9365 1459.95 Q66.5707 1459.95 68.3763 1456.41 Q70.205 1452.85 70.205 1445.74 Q70.205 1438.61 68.3763 1435.07 Q66.5707 1431.5 62.9365 1431.5 M62.9365 1427.8 Q68.7467 1427.8 71.8022 1432.41 Q74.8809 1436.99 74.8809 1445.74 Q74.8809 1454.47 71.8022 1459.07 Q68.7467 1463.66 62.9365 1463.66 Q57.1264 1463.66 54.0477 1459.07 Q50.9921 1454.47 50.9921 1445.74 Q50.9921 1436.99 54.0477 1432.41 Q57.1264 1427.8 62.9365 1427.8 Z\" fill=\"#000000\" fill-rule=\"evenodd\" fill-opacity=\"1\" /><path clip-path=\"url(#clip970)\" d=\"M83.0984 1457.11 L87.9827 1457.11 L87.9827 1462.99 L83.0984 1462.99 L83.0984 1457.11 Z\" fill=\"#000000\" fill-rule=\"evenodd\" fill-opacity=\"1\" /><path clip-path=\"url(#clip970)\" d=\"M108.168 1431.5 Q104.557 1431.5 102.728 1435.07 Q100.922 1438.61 100.922 1445.74 Q100.922 1452.85 102.728 1456.41 Q104.557 1459.95 108.168 1459.95 Q111.802 1459.95 113.608 1456.41 Q115.436 1452.85 115.436 1445.74 Q115.436 1438.61 113.608 1435.07 Q111.802 1431.5 108.168 1431.5 M108.168 1427.8 Q113.978 1427.8 117.033 1432.41 Q120.112 1436.99 120.112 1445.74 Q120.112 1454.47 117.033 1459.07 Q113.978 1463.66 108.168 1463.66 Q102.358 1463.66 99.2789 1459.07 Q96.2234 1454.47 96.2234 1445.74 Q96.2234 1436.99 99.2789 1432.41 Q102.358 1427.8 108.168 1427.8 Z\" fill=\"#000000\" fill-rule=\"evenodd\" fill-opacity=\"1\" /><path clip-path=\"url(#clip970)\" d=\"M138.33 1431.5 Q134.719 1431.5 132.89 1435.07 Q131.084 1438.61 131.084 1445.74 Q131.084 1452.85 132.89 1456.41 Q134.719 1459.95 138.33 1459.95 Q141.964 1459.95 143.769 1456.41 Q145.598 1452.85 145.598 1445.74 Q145.598 1438.61 143.769 1435.07 Q141.964 1431.5 138.33 1431.5 M138.33 1427.8 Q144.14 1427.8 147.195 1432.41 Q150.274 1436.99 150.274 1445.74 Q150.274 1454.47 147.195 1459.07 Q144.14 1463.66 138.33 1463.66 Q132.519 1463.66 129.441 1459.07 Q126.385 1454.47 126.385 1445.74 Q126.385 1436.99 129.441 1432.41 Q132.519 1427.8 138.33 1427.8 Z\" fill=\"#000000\" fill-rule=\"evenodd\" fill-opacity=\"1\" /><path clip-path=\"url(#clip970)\" d=\"M64.1634 991.597 Q60.5523 991.597 58.7236 995.161 Q56.918 998.703 56.918 1005.83 Q56.918 1012.94 58.7236 1016.5 Q60.5523 1020.05 64.1634 1020.05 Q67.7976 1020.05 69.6031 1016.5 Q71.4318 1012.94 71.4318 1005.83 Q71.4318 998.703 69.6031 995.161 Q67.7976 991.597 64.1634 991.597 M64.1634 987.893 Q69.9735 987.893 73.029 992.499 Q76.1077 997.083 76.1077 1005.83 Q76.1077 1014.56 73.029 1019.17 Q69.9735 1023.75 64.1634 1023.75 Q58.3532 1023.75 55.2745 1019.17 Q52.219 1014.56 52.219 1005.83 Q52.219 997.083 55.2745 992.499 Q58.3532 987.893 64.1634 987.893 Z\" fill=\"#000000\" fill-rule=\"evenodd\" fill-opacity=\"1\" /><path clip-path=\"url(#clip970)\" d=\"M84.3253 1017.2 L89.2095 1017.2 L89.2095 1023.08 L84.3253 1023.08 L84.3253 1017.2 Z\" fill=\"#000000\" fill-rule=\"evenodd\" fill-opacity=\"1\" /><path clip-path=\"url(#clip970)\" d=\"M109.395 991.597 Q105.783 991.597 103.955 995.161 Q102.149 998.703 102.149 1005.83 Q102.149 1012.94 103.955 1016.5 Q105.783 1020.05 109.395 1020.05 Q113.029 1020.05 114.834 1016.5 Q116.663 1012.94 116.663 1005.83 Q116.663 998.703 114.834 995.161 Q113.029 991.597 109.395 991.597 M109.395 987.893 Q115.205 987.893 118.26 992.499 Q121.339 997.083 121.339 1005.83 Q121.339 1014.56 118.26 1019.17 Q115.205 1023.75 109.395 1023.75 Q103.584 1023.75 100.506 1019.17 Q97.4502 1014.56 97.4502 1005.83 Q97.4502 997.083 100.506 992.499 Q103.584 987.893 109.395 987.893 Z\" fill=\"#000000\" fill-rule=\"evenodd\" fill-opacity=\"1\" /><path clip-path=\"url(#clip970)\" d=\"M130.367 1019.14 L138.006 1019.14 L138.006 992.777 L129.695 994.444 L129.695 990.185 L137.959 988.518 L142.635 988.518 L142.635 1019.14 L150.274 1019.14 L150.274 1023.08 L130.367 1023.08 L130.367 1019.14 Z\" fill=\"#000000\" fill-rule=\"evenodd\" fill-opacity=\"1\" /><path clip-path=\"url(#clip970)\" d=\"M64.5337 551.688 Q60.9226 551.688 59.0939 555.253 Q57.2884 558.795 57.2884 565.924 Q57.2884 573.031 59.0939 576.596 Q60.9226 580.137 64.5337 580.137 Q68.168 580.137 69.9735 576.596 Q71.8022 573.031 71.8022 565.924 Q71.8022 558.795 69.9735 555.253 Q68.168 551.688 64.5337 551.688 M64.5337 547.985 Q70.3439 547.985 73.3994 552.591 Q76.4781 557.174 76.4781 565.924 Q76.4781 574.651 73.3994 579.258 Q70.3439 583.841 64.5337 583.841 Q58.7236 583.841 55.6449 579.258 Q52.5893 574.651 52.5893 565.924 Q52.5893 557.174 55.6449 552.591 Q58.7236 547.985 64.5337 547.985 Z\" fill=\"#000000\" fill-rule=\"evenodd\" fill-opacity=\"1\" /><path clip-path=\"url(#clip970)\" d=\"M84.6956 577.29 L89.5799 577.29 L89.5799 583.17 L84.6956 583.17 L84.6956 577.29 Z\" fill=\"#000000\" fill-rule=\"evenodd\" fill-opacity=\"1\" /><path clip-path=\"url(#clip970)\" d=\"M109.765 551.688 Q106.154 551.688 104.325 555.253 Q102.52 558.795 102.52 565.924 Q102.52 573.031 104.325 576.596 Q106.154 580.137 109.765 580.137 Q113.399 580.137 115.205 576.596 Q117.033 573.031 117.033 565.924 Q117.033 558.795 115.205 555.253 Q113.399 551.688 109.765 551.688 M109.765 547.985 Q115.575 547.985 118.631 552.591 Q121.709 557.174 121.709 565.924 Q121.709 574.651 118.631 579.258 Q115.575 583.841 109.765 583.841 Q103.955 583.841 100.876 579.258 Q97.8206 574.651 97.8206 565.924 Q97.8206 557.174 100.876 552.591 Q103.955 547.985 109.765 547.985 Z\" fill=\"#000000\" fill-rule=\"evenodd\" fill-opacity=\"1\" /><path clip-path=\"url(#clip970)\" d=\"M133.955 579.234 L150.274 579.234 L150.274 583.17 L128.33 583.17 L128.33 579.234 Q130.992 576.48 135.575 571.85 Q140.181 567.197 141.362 565.855 Q143.607 563.332 144.487 561.596 Q145.39 559.836 145.39 558.147 Q145.39 555.392 143.445 553.656 Q141.524 551.92 138.422 551.92 Q136.223 551.92 133.769 552.684 Q131.339 553.448 128.561 554.998 L128.561 550.276 Q131.385 549.142 133.839 548.563 Q136.293 547.985 138.33 547.985 Q143.7 547.985 146.894 550.67 Q150.089 553.355 150.089 557.846 Q150.089 559.975 149.279 561.897 Q148.492 563.795 146.385 566.387 Q145.806 567.059 142.705 570.276 Q139.603 573.471 133.955 579.234 Z\" fill=\"#000000\" fill-rule=\"evenodd\" fill-opacity=\"1\" /><path clip-path=\"url(#clip970)\" d=\"M63.5847 111.78 Q59.9736 111.78 58.1449 115.345 Q56.3393 118.886 56.3393 126.016 Q56.3393 133.122 58.1449 136.687 Q59.9736 140.229 63.5847 140.229 Q67.2189 140.229 69.0244 136.687 Q70.8531 133.122 70.8531 126.016 Q70.8531 118.886 69.0244 115.345 Q67.2189 111.78 63.5847 111.78 M63.5847 108.076 Q69.3948 108.076 72.4503 112.683 Q75.529 117.266 75.529 126.016 Q75.529 134.743 72.4503 139.349 Q69.3948 143.933 63.5847 143.933 Q57.7745 143.933 54.6958 139.349 Q51.6403 134.743 51.6403 126.016 Q51.6403 117.266 54.6958 112.683 Q57.7745 108.076 63.5847 108.076 Z\" fill=\"#000000\" fill-rule=\"evenodd\" fill-opacity=\"1\" /><path clip-path=\"url(#clip970)\" d=\"M83.7466 137.382 L88.6308 137.382 L88.6308 143.261 L83.7466 143.261 L83.7466 137.382 Z\" fill=\"#000000\" fill-rule=\"evenodd\" fill-opacity=\"1\" /><path clip-path=\"url(#clip970)\" d=\"M108.816 111.78 Q105.205 111.78 103.376 115.345 Q101.571 118.886 101.571 126.016 Q101.571 133.122 103.376 136.687 Q105.205 140.229 108.816 140.229 Q112.45 140.229 114.256 136.687 Q116.084 133.122 116.084 126.016 Q116.084 118.886 114.256 115.345 Q112.45 111.78 108.816 111.78 M108.816 108.076 Q114.626 108.076 117.682 112.683 Q120.76 117.266 120.76 126.016 Q120.76 134.743 117.682 139.349 Q114.626 143.933 108.816 143.933 Q103.006 143.933 99.927 139.349 Q96.8715 134.743 96.8715 126.016 Q96.8715 117.266 99.927 112.683 Q103.006 108.076 108.816 108.076 Z\" fill=\"#000000\" fill-rule=\"evenodd\" fill-opacity=\"1\" /><path clip-path=\"url(#clip970)\" d=\"M143.144 124.627 Q146.501 125.345 148.376 127.613 Q150.274 129.882 150.274 133.215 Q150.274 138.331 146.756 141.132 Q143.237 143.933 136.756 143.933 Q134.58 143.933 132.265 143.493 Q129.973 143.076 127.519 142.22 L127.519 137.706 Q129.464 138.84 131.779 139.419 Q134.094 139.997 136.617 139.997 Q141.015 139.997 143.306 138.261 Q145.621 136.525 145.621 133.215 Q145.621 130.16 143.468 128.447 Q141.339 126.71 137.519 126.71 L133.492 126.71 L133.492 122.868 L137.705 122.868 Q141.154 122.868 142.982 121.502 Q144.811 120.113 144.811 117.521 Q144.811 114.859 142.913 113.447 Q141.038 112.011 137.519 112.011 Q135.598 112.011 133.399 112.428 Q131.2 112.845 128.561 113.724 L128.561 109.558 Q131.223 108.817 133.538 108.447 Q135.876 108.076 137.936 108.076 Q143.26 108.076 146.362 110.507 Q149.464 112.914 149.464 117.035 Q149.464 119.905 147.82 121.896 Q146.177 123.863 143.144 124.627 Z\" fill=\"#000000\" fill-rule=\"evenodd\" fill-opacity=\"1\" /><polyline clip-path=\"url(#clip972)\" style=\"stroke:#009af9; stroke-linecap:butt; stroke-linejoin:round; stroke-width:4; stroke-opacity:1; fill:none\" points=\"\n  247.59,1445.71 247.59,1445.71 277.794,1445.71 282.828,1445.71 307.999,1445.71 338.204,1445.71 357.221,1445.71 368.408,1445.71 398.613,1445.71 404.206,1445.71 \n  428.818,1445.71 459.022,1445.71 466.853,1445.71 489.227,1445.71 519.432,1445.71 525.585,1445.71 549.636,1445.71 576.485,1445.71 579.841,1445.71 610.046,1445.71 \n  640.251,1445.71 646.963,1445.71 670.455,1445.71 686.117,1445.71 700.66,1445.71 730.865,1445.71 761.069,1445.71 768.341,1445.71 791.274,1445.71 795.749,1445.71 \n  821.479,1445.71 851.683,1445.71 881.888,1445.71 889.719,1445.72 905.381,1445.47 912.093,1445.05 942.297,1439.67 972.502,1428.28 1002.71,1411.55 1011.1,1406.07 \n  1015.01,1403.41 1032.91,1390.39 1063.12,1365.66 1093.32,1338.08 1123.53,1308.23 1124.64,1307.16 1132.48,1299.1 1153.73,1276.59 1183.93,1243.53 1214.14,1209.4 \n  1234.28,1186.23 1244.34,1174.44 1253.85,1163.38 1274.55,1138.87 1304.75,1102.89 1334.96,1066.64 1339.99,1060.54 1365.16,1030.26 1375.23,1018.09 1383.06,1008.65 \n  1395.37,993.853 1425.57,957.516 1426.13,956.909 1455.78,921.329 1469.2,905.412 1485.98,885.353 1512.27,854.36 1516.19,849.653 1546.39,814.282 1555.34,804.035 \n  1576.6,779.259 1598.41,754.526 1606.8,744.609 1637.01,710.367 1641.48,705.561 1667.21,676.507 1684.55,657.564 1697.41,643.425 1727.62,610.641 1727.62,610.743 \n  1745.24,591.782 1773.99,561.197 1802.73,531.151 1831.48,500.975 1860.23,472.24 1888.98,442.999 1917.72,415.304 1946.47,386.949 1975.22,360.171 2003.97,333.246 \n  2032.71,306.185 2061.46,280.744 2090.21,255.176 2118.96,230.025 2147.7,204.662 2176.45,181.047 2205.2,157.166 2233.95,133.006 2262.69,110.637 2291.44,87.9763 \n  \n  \"/>\n<path clip-path=\"url(#clip970)\" d=\"\nM1987.39 198.898 L2280.54 198.898 L2280.54 95.2176 L1987.39 95.2176  Z\n  \" fill=\"#ffffff\" fill-rule=\"evenodd\" fill-opacity=\"1\"/>\n<polyline clip-path=\"url(#clip970)\" style=\"stroke:#000000; stroke-linecap:butt; stroke-linejoin:round; stroke-width:4; stroke-opacity:1; fill:none\" points=\"\n  1987.39,198.898 2280.54,198.898 2280.54,95.2176 1987.39,95.2176 1987.39,198.898 \n  \"/>\n<polyline clip-path=\"url(#clip970)\" style=\"stroke:#009af9; stroke-linecap:butt; stroke-linejoin:round; stroke-width:4; stroke-opacity:1; fill:none\" points=\"\n  2011.46,147.058 2155.89,147.058 \n  \"/>\n<path clip-path=\"url(#clip970)\" d=\"M2193.81 166.745 Q2192 171.375 2190.29 172.787 Q2188.58 174.199 2185.71 174.199 L2182.3 174.199 L2182.3 170.634 L2184.8 170.634 Q2186.56 170.634 2187.53 169.8 Q2188.51 168.967 2189.69 165.865 L2190.45 163.921 L2179.97 138.412 L2184.48 138.412 L2192.58 158.689 L2200.68 138.412 L2205.2 138.412 L2193.81 166.745 Z\" fill=\"#000000\" fill-rule=\"evenodd\" fill-opacity=\"1\" /><path clip-path=\"url(#clip970)\" d=\"M2212.49 160.402 L2220.13 160.402 L2220.13 134.037 L2211.82 135.703 L2211.82 131.444 L2220.08 129.778 L2224.76 129.778 L2224.76 160.402 L2232.4 160.402 L2232.4 164.338 L2212.49 164.338 L2212.49 160.402 Z\" fill=\"#000000\" fill-rule=\"evenodd\" fill-opacity=\"1\" /></svg>\n",
      "text/html": [
       "<?xml version=\"1.0\" encoding=\"utf-8\"?>\n",
       "<svg xmlns=\"http://www.w3.org/2000/svg\" xmlns:xlink=\"http://www.w3.org/1999/xlink\" width=\"600\" height=\"400\" viewBox=\"0 0 2400 1600\">\n",
       "<defs>\n",
       "  <clipPath id=\"clip020\">\n",
       "    <rect x=\"0\" y=\"0\" width=\"2400\" height=\"1600\"/>\n",
       "  </clipPath>\n",
       "</defs>\n",
       "<path clip-path=\"url(#clip020)\" d=\"\n",
       "M0 1600 L2400 1600 L2400 0 L0 0  Z\n",
       "  \" fill=\"#ffffff\" fill-rule=\"evenodd\" fill-opacity=\"1\"/>\n",
       "<defs>\n",
       "  <clipPath id=\"clip021\">\n",
       "    <rect x=\"480\" y=\"0\" width=\"1681\" height=\"1600\"/>\n",
       "  </clipPath>\n",
       "</defs>\n",
       "<path clip-path=\"url(#clip020)\" d=\"\n",
       "M186.274 1486.45 L2352.76 1486.45 L2352.76 47.2441 L186.274 47.2441  Z\n",
       "  \" fill=\"#ffffff\" fill-rule=\"evenodd\" fill-opacity=\"1\"/>\n",
       "<defs>\n",
       "  <clipPath id=\"clip022\">\n",
       "    <rect x=\"186\" y=\"47\" width=\"2167\" height=\"1440\"/>\n",
       "  </clipPath>\n",
       "</defs>\n",
       "<polyline clip-path=\"url(#clip022)\" style=\"stroke:#000000; stroke-linecap:butt; stroke-linejoin:round; stroke-width:2; stroke-opacity:0.1; fill:none\" points=\"\n",
       "  529.5,1486.45 529.5,47.2441 \n",
       "  \"/>\n",
       "<polyline clip-path=\"url(#clip022)\" style=\"stroke:#000000; stroke-linecap:butt; stroke-linejoin:round; stroke-width:2; stroke-opacity:0.1; fill:none\" points=\"\n",
       "  881.888,1486.45 881.888,47.2441 \n",
       "  \"/>\n",
       "<polyline clip-path=\"url(#clip022)\" style=\"stroke:#000000; stroke-linecap:butt; stroke-linejoin:round; stroke-width:2; stroke-opacity:0.1; fill:none\" points=\"\n",
       "  1234.28,1486.45 1234.28,47.2441 \n",
       "  \"/>\n",
       "<polyline clip-path=\"url(#clip022)\" style=\"stroke:#000000; stroke-linecap:butt; stroke-linejoin:round; stroke-width:2; stroke-opacity:0.1; fill:none\" points=\"\n",
       "  1586.66,1486.45 1586.66,47.2441 \n",
       "  \"/>\n",
       "<polyline clip-path=\"url(#clip022)\" style=\"stroke:#000000; stroke-linecap:butt; stroke-linejoin:round; stroke-width:2; stroke-opacity:0.1; fill:none\" points=\"\n",
       "  1939.05,1486.45 1939.05,47.2441 \n",
       "  \"/>\n",
       "<polyline clip-path=\"url(#clip022)\" style=\"stroke:#000000; stroke-linecap:butt; stroke-linejoin:round; stroke-width:2; stroke-opacity:0.1; fill:none\" points=\"\n",
       "  2291.44,1486.45 2291.44,47.2441 \n",
       "  \"/>\n",
       "<polyline clip-path=\"url(#clip020)\" style=\"stroke:#000000; stroke-linecap:butt; stroke-linejoin:round; stroke-width:4; stroke-opacity:1; fill:none\" points=\"\n",
       "  186.274,1486.45 2352.76,1486.45 \n",
       "  \"/>\n",
       "<polyline clip-path=\"url(#clip020)\" style=\"stroke:#000000; stroke-linecap:butt; stroke-linejoin:round; stroke-width:4; stroke-opacity:1; fill:none\" points=\"\n",
       "  529.5,1486.45 529.5,1467.55 \n",
       "  \"/>\n",
       "<polyline clip-path=\"url(#clip020)\" style=\"stroke:#000000; stroke-linecap:butt; stroke-linejoin:round; stroke-width:4; stroke-opacity:1; fill:none\" points=\"\n",
       "  881.888,1486.45 881.888,1467.55 \n",
       "  \"/>\n",
       "<polyline clip-path=\"url(#clip020)\" style=\"stroke:#000000; stroke-linecap:butt; stroke-linejoin:round; stroke-width:4; stroke-opacity:1; fill:none\" points=\"\n",
       "  1234.28,1486.45 1234.28,1467.55 \n",
       "  \"/>\n",
       "<polyline clip-path=\"url(#clip020)\" style=\"stroke:#000000; stroke-linecap:butt; stroke-linejoin:round; stroke-width:4; stroke-opacity:1; fill:none\" points=\"\n",
       "  1586.66,1486.45 1586.66,1467.55 \n",
       "  \"/>\n",
       "<polyline clip-path=\"url(#clip020)\" style=\"stroke:#000000; stroke-linecap:butt; stroke-linejoin:round; stroke-width:4; stroke-opacity:1; fill:none\" points=\"\n",
       "  1939.05,1486.45 1939.05,1467.55 \n",
       "  \"/>\n",
       "<polyline clip-path=\"url(#clip020)\" style=\"stroke:#000000; stroke-linecap:butt; stroke-linejoin:round; stroke-width:4; stroke-opacity:1; fill:none\" points=\"\n",
       "  2291.44,1486.45 2291.44,1467.55 \n",
       "  \"/>\n",
       "<path clip-path=\"url(#clip020)\" d=\"M519.778 1514.29 L538.134 1514.29 L538.134 1518.22 L524.06 1518.22 L524.06 1526.7 Q525.079 1526.35 526.097 1526.19 Q527.116 1526 528.134 1526 Q533.921 1526 537.301 1529.17 Q540.68 1532.34 540.68 1537.76 Q540.68 1543.34 537.208 1546.44 Q533.736 1549.52 527.417 1549.52 Q525.241 1549.52 522.972 1549.15 Q520.727 1548.78 518.319 1548.04 L518.319 1543.34 Q520.403 1544.47 522.625 1545.03 Q524.847 1545.58 527.324 1545.58 Q531.329 1545.58 533.667 1543.48 Q536.005 1541.37 536.005 1537.76 Q536.005 1534.15 533.667 1532.04 Q531.329 1529.94 527.324 1529.94 Q525.449 1529.94 523.574 1530.35 Q521.722 1530.77 519.778 1531.65 L519.778 1514.29 Z\" fill=\"#000000\" fill-rule=\"evenodd\" fill-opacity=\"1\" /><path clip-path=\"url(#clip020)\" d=\"M856.576 1544.91 L864.215 1544.91 L864.215 1518.55 L855.904 1520.21 L855.904 1515.95 L864.168 1514.29 L868.844 1514.29 L868.844 1544.91 L876.483 1544.91 L876.483 1548.85 L856.576 1548.85 L856.576 1544.91 Z\" fill=\"#000000\" fill-rule=\"evenodd\" fill-opacity=\"1\" /><path clip-path=\"url(#clip020)\" d=\"M895.927 1517.37 Q892.316 1517.37 890.488 1520.93 Q888.682 1524.47 888.682 1531.6 Q888.682 1538.71 890.488 1542.27 Q892.316 1545.82 895.927 1545.82 Q899.562 1545.82 901.367 1542.27 Q903.196 1538.71 903.196 1531.6 Q903.196 1524.47 901.367 1520.93 Q899.562 1517.37 895.927 1517.37 M895.927 1513.66 Q901.737 1513.66 904.793 1518.27 Q907.872 1522.85 907.872 1531.6 Q907.872 1540.33 904.793 1544.94 Q901.737 1549.52 895.927 1549.52 Q890.117 1549.52 887.039 1544.94 Q883.983 1540.33 883.983 1531.6 Q883.983 1522.85 887.039 1518.27 Q890.117 1513.66 895.927 1513.66 Z\" fill=\"#000000\" fill-rule=\"evenodd\" fill-opacity=\"1\" /><path clip-path=\"url(#clip020)\" d=\"M1209.46 1544.91 L1217.1 1544.91 L1217.1 1518.55 L1208.79 1520.21 L1208.79 1515.95 L1217.05 1514.29 L1221.73 1514.29 L1221.73 1544.91 L1229.37 1544.91 L1229.37 1548.85 L1209.46 1548.85 L1209.46 1544.91 Z\" fill=\"#000000\" fill-rule=\"evenodd\" fill-opacity=\"1\" /><path clip-path=\"url(#clip020)\" d=\"M1238.86 1514.29 L1257.22 1514.29 L1257.22 1518.22 L1243.14 1518.22 L1243.14 1526.7 Q1244.16 1526.35 1245.18 1526.19 Q1246.2 1526 1247.22 1526 Q1253 1526 1256.38 1529.17 Q1259.76 1532.34 1259.76 1537.76 Q1259.76 1543.34 1256.29 1546.44 Q1252.82 1549.52 1246.5 1549.52 Q1244.32 1549.52 1242.05 1549.15 Q1239.81 1548.78 1237.4 1548.04 L1237.4 1543.34 Q1239.48 1544.47 1241.71 1545.03 Q1243.93 1545.58 1246.41 1545.58 Q1250.41 1545.58 1252.75 1543.48 Q1255.09 1541.37 1255.09 1537.76 Q1255.09 1534.15 1252.75 1532.04 Q1250.41 1529.94 1246.41 1529.94 Q1244.53 1529.94 1242.66 1530.35 Q1240.8 1530.77 1238.86 1531.65 L1238.86 1514.29 Z\" fill=\"#000000\" fill-rule=\"evenodd\" fill-opacity=\"1\" /><path clip-path=\"url(#clip020)\" d=\"M1565.44 1544.91 L1581.76 1544.91 L1581.76 1548.85 L1559.81 1548.85 L1559.81 1544.91 Q1562.47 1542.16 1567.06 1537.53 Q1571.66 1532.88 1572.84 1531.53 Q1575.09 1529.01 1575.97 1527.27 Q1576.87 1525.51 1576.87 1523.82 Q1576.87 1521.07 1574.93 1519.33 Q1573.01 1517.6 1569.91 1517.6 Q1567.71 1517.6 1565.25 1518.36 Q1562.82 1519.13 1560.04 1520.68 L1560.04 1515.95 Q1562.87 1514.82 1565.32 1514.24 Q1567.78 1513.66 1569.81 1513.66 Q1575.18 1513.66 1578.38 1516.35 Q1581.57 1519.03 1581.57 1523.52 Q1581.57 1525.65 1580.76 1527.57 Q1579.97 1529.47 1577.87 1532.07 Q1577.29 1532.74 1574.19 1535.95 Q1571.09 1539.15 1565.44 1544.91 Z\" fill=\"#000000\" fill-rule=\"evenodd\" fill-opacity=\"1\" /><path clip-path=\"url(#clip020)\" d=\"M1601.57 1517.37 Q1597.96 1517.37 1596.13 1520.93 Q1594.33 1524.47 1594.33 1531.6 Q1594.33 1538.71 1596.13 1542.27 Q1597.96 1545.82 1601.57 1545.82 Q1605.21 1545.82 1607.01 1542.27 Q1608.84 1538.71 1608.84 1531.6 Q1608.84 1524.47 1607.01 1520.93 Q1605.21 1517.37 1601.57 1517.37 M1601.57 1513.66 Q1607.38 1513.66 1610.44 1518.27 Q1613.52 1522.85 1613.52 1531.6 Q1613.52 1540.33 1610.44 1544.94 Q1607.38 1549.52 1601.57 1549.52 Q1595.76 1549.52 1592.68 1544.94 Q1589.63 1540.33 1589.63 1531.6 Q1589.63 1522.85 1592.68 1518.27 Q1595.76 1513.66 1601.57 1513.66 Z\" fill=\"#000000\" fill-rule=\"evenodd\" fill-opacity=\"1\" /><path clip-path=\"url(#clip020)\" d=\"M1918.32 1544.91 L1934.64 1544.91 L1934.64 1548.85 L1912.7 1548.85 L1912.7 1544.91 Q1915.36 1542.16 1919.94 1537.53 Q1924.55 1532.88 1925.73 1531.53 Q1927.98 1529.01 1928.86 1527.27 Q1929.76 1525.51 1929.76 1523.82 Q1929.76 1521.07 1927.81 1519.33 Q1925.89 1517.6 1922.79 1517.6 Q1920.59 1517.6 1918.14 1518.36 Q1915.71 1519.13 1912.93 1520.68 L1912.93 1515.95 Q1915.75 1514.82 1918.21 1514.24 Q1920.66 1513.66 1922.7 1513.66 Q1928.07 1513.66 1931.26 1516.35 Q1934.46 1519.03 1934.46 1523.52 Q1934.46 1525.65 1933.65 1527.57 Q1932.86 1529.47 1930.75 1532.07 Q1930.18 1532.74 1927.07 1535.95 Q1923.97 1539.15 1918.32 1544.91 Z\" fill=\"#000000\" fill-rule=\"evenodd\" fill-opacity=\"1\" /><path clip-path=\"url(#clip020)\" d=\"M1944.5 1514.29 L1962.86 1514.29 L1962.86 1518.22 L1948.79 1518.22 L1948.79 1526.7 Q1949.8 1526.35 1950.82 1526.19 Q1951.84 1526 1952.86 1526 Q1958.65 1526 1962.03 1529.17 Q1965.41 1532.34 1965.41 1537.76 Q1965.41 1543.34 1961.93 1546.44 Q1958.46 1549.52 1952.14 1549.52 Q1949.97 1549.52 1947.7 1549.15 Q1945.45 1548.78 1943.05 1548.04 L1943.05 1543.34 Q1945.13 1544.47 1947.35 1545.03 Q1949.57 1545.58 1952.05 1545.58 Q1956.05 1545.58 1958.39 1543.48 Q1960.73 1541.37 1960.73 1537.76 Q1960.73 1534.15 1958.39 1532.04 Q1956.05 1529.94 1952.05 1529.94 Q1950.17 1529.94 1948.3 1530.35 Q1946.45 1530.77 1944.5 1531.65 L1944.5 1514.29 Z\" fill=\"#000000\" fill-rule=\"evenodd\" fill-opacity=\"1\" /><path clip-path=\"url(#clip020)\" d=\"M2280.28 1530.21 Q2283.64 1530.93 2285.51 1533.2 Q2287.41 1535.47 2287.41 1538.8 Q2287.41 1543.92 2283.89 1546.72 Q2280.38 1549.52 2273.89 1549.52 Q2271.72 1549.52 2269.4 1549.08 Q2267.11 1548.66 2264.66 1547.81 L2264.66 1543.29 Q2266.6 1544.43 2268.92 1545.01 Q2271.23 1545.58 2273.76 1545.58 Q2278.15 1545.58 2280.45 1543.85 Q2282.76 1542.11 2282.76 1538.8 Q2282.76 1535.75 2280.61 1534.03 Q2278.48 1532.3 2274.66 1532.3 L2270.63 1532.3 L2270.63 1528.45 L2274.84 1528.45 Q2278.29 1528.45 2280.12 1527.09 Q2281.95 1525.7 2281.95 1523.11 Q2281.95 1520.45 2280.05 1519.03 Q2278.18 1517.6 2274.66 1517.6 Q2272.74 1517.6 2270.54 1518.01 Q2268.34 1518.43 2265.7 1519.31 L2265.7 1515.14 Q2268.36 1514.4 2270.68 1514.03 Q2273.01 1513.66 2275.07 1513.66 Q2280.4 1513.66 2283.5 1516.09 Q2286.6 1518.5 2286.6 1522.62 Q2286.6 1525.49 2284.96 1527.48 Q2283.32 1529.45 2280.28 1530.21 Z\" fill=\"#000000\" fill-rule=\"evenodd\" fill-opacity=\"1\" /><path clip-path=\"url(#clip020)\" d=\"M2306.28 1517.37 Q2302.67 1517.37 2300.84 1520.93 Q2299.03 1524.47 2299.03 1531.6 Q2299.03 1538.71 2300.84 1542.27 Q2302.67 1545.82 2306.28 1545.82 Q2309.91 1545.82 2311.72 1542.27 Q2313.55 1538.71 2313.55 1531.6 Q2313.55 1524.47 2311.72 1520.93 Q2309.91 1517.37 2306.28 1517.37 M2306.28 1513.66 Q2312.09 1513.66 2315.14 1518.27 Q2318.22 1522.85 2318.22 1531.6 Q2318.22 1540.33 2315.14 1544.94 Q2312.09 1549.52 2306.28 1549.52 Q2300.47 1549.52 2297.39 1544.94 Q2294.33 1540.33 2294.33 1531.6 Q2294.33 1522.85 2297.39 1518.27 Q2300.47 1513.66 2306.28 1513.66 Z\" fill=\"#000000\" fill-rule=\"evenodd\" fill-opacity=\"1\" /><polyline clip-path=\"url(#clip022)\" style=\"stroke:#000000; stroke-linecap:butt; stroke-linejoin:round; stroke-width:2; stroke-opacity:0.1; fill:none\" points=\"\n",
       "  186.274,1445.71 2352.76,1445.71 \n",
       "  \"/>\n",
       "<polyline clip-path=\"url(#clip022)\" style=\"stroke:#000000; stroke-linecap:butt; stroke-linejoin:round; stroke-width:2; stroke-opacity:0.1; fill:none\" points=\"\n",
       "  186.274,1005.8 2352.76,1005.8 \n",
       "  \"/>\n",
       "<polyline clip-path=\"url(#clip022)\" style=\"stroke:#000000; stroke-linecap:butt; stroke-linejoin:round; stroke-width:2; stroke-opacity:0.1; fill:none\" points=\"\n",
       "  186.274,565.89 2352.76,565.89 \n",
       "  \"/>\n",
       "<polyline clip-path=\"url(#clip022)\" style=\"stroke:#000000; stroke-linecap:butt; stroke-linejoin:round; stroke-width:2; stroke-opacity:0.1; fill:none\" points=\"\n",
       "  186.274,125.981 2352.76,125.981 \n",
       "  \"/>\n",
       "<polyline clip-path=\"url(#clip020)\" style=\"stroke:#000000; stroke-linecap:butt; stroke-linejoin:round; stroke-width:4; stroke-opacity:1; fill:none\" points=\"\n",
       "  186.274,1486.45 186.274,47.2441 \n",
       "  \"/>\n",
       "<polyline clip-path=\"url(#clip020)\" style=\"stroke:#000000; stroke-linecap:butt; stroke-linejoin:round; stroke-width:4; stroke-opacity:1; fill:none\" points=\"\n",
       "  186.274,1445.71 205.172,1445.71 \n",
       "  \"/>\n",
       "<polyline clip-path=\"url(#clip020)\" style=\"stroke:#000000; stroke-linecap:butt; stroke-linejoin:round; stroke-width:4; stroke-opacity:1; fill:none\" points=\"\n",
       "  186.274,1005.8 205.172,1005.8 \n",
       "  \"/>\n",
       "<polyline clip-path=\"url(#clip020)\" style=\"stroke:#000000; stroke-linecap:butt; stroke-linejoin:round; stroke-width:4; stroke-opacity:1; fill:none\" points=\"\n",
       "  186.274,565.89 205.172,565.89 \n",
       "  \"/>\n",
       "<polyline clip-path=\"url(#clip020)\" style=\"stroke:#000000; stroke-linecap:butt; stroke-linejoin:round; stroke-width:4; stroke-opacity:1; fill:none\" points=\"\n",
       "  186.274,125.981 205.172,125.981 \n",
       "  \"/>\n",
       "<path clip-path=\"url(#clip020)\" d=\"M62.9365 1431.5 Q59.3254 1431.5 57.4967 1435.07 Q55.6912 1438.61 55.6912 1445.74 Q55.6912 1452.85 57.4967 1456.41 Q59.3254 1459.95 62.9365 1459.95 Q66.5707 1459.95 68.3763 1456.41 Q70.205 1452.85 70.205 1445.74 Q70.205 1438.61 68.3763 1435.07 Q66.5707 1431.5 62.9365 1431.5 M62.9365 1427.8 Q68.7467 1427.8 71.8022 1432.41 Q74.8809 1436.99 74.8809 1445.74 Q74.8809 1454.47 71.8022 1459.07 Q68.7467 1463.66 62.9365 1463.66 Q57.1264 1463.66 54.0477 1459.07 Q50.9921 1454.47 50.9921 1445.74 Q50.9921 1436.99 54.0477 1432.41 Q57.1264 1427.8 62.9365 1427.8 Z\" fill=\"#000000\" fill-rule=\"evenodd\" fill-opacity=\"1\" /><path clip-path=\"url(#clip020)\" d=\"M83.0984 1457.11 L87.9827 1457.11 L87.9827 1462.99 L83.0984 1462.99 L83.0984 1457.11 Z\" fill=\"#000000\" fill-rule=\"evenodd\" fill-opacity=\"1\" /><path clip-path=\"url(#clip020)\" d=\"M108.168 1431.5 Q104.557 1431.5 102.728 1435.07 Q100.922 1438.61 100.922 1445.74 Q100.922 1452.85 102.728 1456.41 Q104.557 1459.95 108.168 1459.95 Q111.802 1459.95 113.608 1456.41 Q115.436 1452.85 115.436 1445.74 Q115.436 1438.61 113.608 1435.07 Q111.802 1431.5 108.168 1431.5 M108.168 1427.8 Q113.978 1427.8 117.033 1432.41 Q120.112 1436.99 120.112 1445.74 Q120.112 1454.47 117.033 1459.07 Q113.978 1463.66 108.168 1463.66 Q102.358 1463.66 99.2789 1459.07 Q96.2234 1454.47 96.2234 1445.74 Q96.2234 1436.99 99.2789 1432.41 Q102.358 1427.8 108.168 1427.8 Z\" fill=\"#000000\" fill-rule=\"evenodd\" fill-opacity=\"1\" /><path clip-path=\"url(#clip020)\" d=\"M138.33 1431.5 Q134.719 1431.5 132.89 1435.07 Q131.084 1438.61 131.084 1445.74 Q131.084 1452.85 132.89 1456.41 Q134.719 1459.95 138.33 1459.95 Q141.964 1459.95 143.769 1456.41 Q145.598 1452.85 145.598 1445.74 Q145.598 1438.61 143.769 1435.07 Q141.964 1431.5 138.33 1431.5 M138.33 1427.8 Q144.14 1427.8 147.195 1432.41 Q150.274 1436.99 150.274 1445.74 Q150.274 1454.47 147.195 1459.07 Q144.14 1463.66 138.33 1463.66 Q132.519 1463.66 129.441 1459.07 Q126.385 1454.47 126.385 1445.74 Q126.385 1436.99 129.441 1432.41 Q132.519 1427.8 138.33 1427.8 Z\" fill=\"#000000\" fill-rule=\"evenodd\" fill-opacity=\"1\" /><path clip-path=\"url(#clip020)\" d=\"M64.1634 991.597 Q60.5523 991.597 58.7236 995.161 Q56.918 998.703 56.918 1005.83 Q56.918 1012.94 58.7236 1016.5 Q60.5523 1020.05 64.1634 1020.05 Q67.7976 1020.05 69.6031 1016.5 Q71.4318 1012.94 71.4318 1005.83 Q71.4318 998.703 69.6031 995.161 Q67.7976 991.597 64.1634 991.597 M64.1634 987.893 Q69.9735 987.893 73.029 992.499 Q76.1077 997.083 76.1077 1005.83 Q76.1077 1014.56 73.029 1019.17 Q69.9735 1023.75 64.1634 1023.75 Q58.3532 1023.75 55.2745 1019.17 Q52.219 1014.56 52.219 1005.83 Q52.219 997.083 55.2745 992.499 Q58.3532 987.893 64.1634 987.893 Z\" fill=\"#000000\" fill-rule=\"evenodd\" fill-opacity=\"1\" /><path clip-path=\"url(#clip020)\" d=\"M84.3253 1017.2 L89.2095 1017.2 L89.2095 1023.08 L84.3253 1023.08 L84.3253 1017.2 Z\" fill=\"#000000\" fill-rule=\"evenodd\" fill-opacity=\"1\" /><path clip-path=\"url(#clip020)\" d=\"M109.395 991.597 Q105.783 991.597 103.955 995.161 Q102.149 998.703 102.149 1005.83 Q102.149 1012.94 103.955 1016.5 Q105.783 1020.05 109.395 1020.05 Q113.029 1020.05 114.834 1016.5 Q116.663 1012.94 116.663 1005.83 Q116.663 998.703 114.834 995.161 Q113.029 991.597 109.395 991.597 M109.395 987.893 Q115.205 987.893 118.26 992.499 Q121.339 997.083 121.339 1005.83 Q121.339 1014.56 118.26 1019.17 Q115.205 1023.75 109.395 1023.75 Q103.584 1023.75 100.506 1019.17 Q97.4502 1014.56 97.4502 1005.83 Q97.4502 997.083 100.506 992.499 Q103.584 987.893 109.395 987.893 Z\" fill=\"#000000\" fill-rule=\"evenodd\" fill-opacity=\"1\" /><path clip-path=\"url(#clip020)\" d=\"M130.367 1019.14 L138.006 1019.14 L138.006 992.777 L129.695 994.444 L129.695 990.185 L137.959 988.518 L142.635 988.518 L142.635 1019.14 L150.274 1019.14 L150.274 1023.08 L130.367 1023.08 L130.367 1019.14 Z\" fill=\"#000000\" fill-rule=\"evenodd\" fill-opacity=\"1\" /><path clip-path=\"url(#clip020)\" d=\"M64.5337 551.688 Q60.9226 551.688 59.0939 555.253 Q57.2884 558.795 57.2884 565.924 Q57.2884 573.031 59.0939 576.596 Q60.9226 580.137 64.5337 580.137 Q68.168 580.137 69.9735 576.596 Q71.8022 573.031 71.8022 565.924 Q71.8022 558.795 69.9735 555.253 Q68.168 551.688 64.5337 551.688 M64.5337 547.985 Q70.3439 547.985 73.3994 552.591 Q76.4781 557.174 76.4781 565.924 Q76.4781 574.651 73.3994 579.258 Q70.3439 583.841 64.5337 583.841 Q58.7236 583.841 55.6449 579.258 Q52.5893 574.651 52.5893 565.924 Q52.5893 557.174 55.6449 552.591 Q58.7236 547.985 64.5337 547.985 Z\" fill=\"#000000\" fill-rule=\"evenodd\" fill-opacity=\"1\" /><path clip-path=\"url(#clip020)\" d=\"M84.6956 577.29 L89.5799 577.29 L89.5799 583.17 L84.6956 583.17 L84.6956 577.29 Z\" fill=\"#000000\" fill-rule=\"evenodd\" fill-opacity=\"1\" /><path clip-path=\"url(#clip020)\" d=\"M109.765 551.688 Q106.154 551.688 104.325 555.253 Q102.52 558.795 102.52 565.924 Q102.52 573.031 104.325 576.596 Q106.154 580.137 109.765 580.137 Q113.399 580.137 115.205 576.596 Q117.033 573.031 117.033 565.924 Q117.033 558.795 115.205 555.253 Q113.399 551.688 109.765 551.688 M109.765 547.985 Q115.575 547.985 118.631 552.591 Q121.709 557.174 121.709 565.924 Q121.709 574.651 118.631 579.258 Q115.575 583.841 109.765 583.841 Q103.955 583.841 100.876 579.258 Q97.8206 574.651 97.8206 565.924 Q97.8206 557.174 100.876 552.591 Q103.955 547.985 109.765 547.985 Z\" fill=\"#000000\" fill-rule=\"evenodd\" fill-opacity=\"1\" /><path clip-path=\"url(#clip020)\" d=\"M133.955 579.234 L150.274 579.234 L150.274 583.17 L128.33 583.17 L128.33 579.234 Q130.992 576.48 135.575 571.85 Q140.181 567.197 141.362 565.855 Q143.607 563.332 144.487 561.596 Q145.39 559.836 145.39 558.147 Q145.39 555.392 143.445 553.656 Q141.524 551.92 138.422 551.92 Q136.223 551.92 133.769 552.684 Q131.339 553.448 128.561 554.998 L128.561 550.276 Q131.385 549.142 133.839 548.563 Q136.293 547.985 138.33 547.985 Q143.7 547.985 146.894 550.67 Q150.089 553.355 150.089 557.846 Q150.089 559.975 149.279 561.897 Q148.492 563.795 146.385 566.387 Q145.806 567.059 142.705 570.276 Q139.603 573.471 133.955 579.234 Z\" fill=\"#000000\" fill-rule=\"evenodd\" fill-opacity=\"1\" /><path clip-path=\"url(#clip020)\" d=\"M63.5847 111.78 Q59.9736 111.78 58.1449 115.345 Q56.3393 118.886 56.3393 126.016 Q56.3393 133.122 58.1449 136.687 Q59.9736 140.229 63.5847 140.229 Q67.2189 140.229 69.0244 136.687 Q70.8531 133.122 70.8531 126.016 Q70.8531 118.886 69.0244 115.345 Q67.2189 111.78 63.5847 111.78 M63.5847 108.076 Q69.3948 108.076 72.4503 112.683 Q75.529 117.266 75.529 126.016 Q75.529 134.743 72.4503 139.349 Q69.3948 143.933 63.5847 143.933 Q57.7745 143.933 54.6958 139.349 Q51.6403 134.743 51.6403 126.016 Q51.6403 117.266 54.6958 112.683 Q57.7745 108.076 63.5847 108.076 Z\" fill=\"#000000\" fill-rule=\"evenodd\" fill-opacity=\"1\" /><path clip-path=\"url(#clip020)\" d=\"M83.7466 137.382 L88.6308 137.382 L88.6308 143.261 L83.7466 143.261 L83.7466 137.382 Z\" fill=\"#000000\" fill-rule=\"evenodd\" fill-opacity=\"1\" /><path clip-path=\"url(#clip020)\" d=\"M108.816 111.78 Q105.205 111.78 103.376 115.345 Q101.571 118.886 101.571 126.016 Q101.571 133.122 103.376 136.687 Q105.205 140.229 108.816 140.229 Q112.45 140.229 114.256 136.687 Q116.084 133.122 116.084 126.016 Q116.084 118.886 114.256 115.345 Q112.45 111.78 108.816 111.78 M108.816 108.076 Q114.626 108.076 117.682 112.683 Q120.76 117.266 120.76 126.016 Q120.76 134.743 117.682 139.349 Q114.626 143.933 108.816 143.933 Q103.006 143.933 99.927 139.349 Q96.8715 134.743 96.8715 126.016 Q96.8715 117.266 99.927 112.683 Q103.006 108.076 108.816 108.076 Z\" fill=\"#000000\" fill-rule=\"evenodd\" fill-opacity=\"1\" /><path clip-path=\"url(#clip020)\" d=\"M143.144 124.627 Q146.501 125.345 148.376 127.613 Q150.274 129.882 150.274 133.215 Q150.274 138.331 146.756 141.132 Q143.237 143.933 136.756 143.933 Q134.58 143.933 132.265 143.493 Q129.973 143.076 127.519 142.22 L127.519 137.706 Q129.464 138.84 131.779 139.419 Q134.094 139.997 136.617 139.997 Q141.015 139.997 143.306 138.261 Q145.621 136.525 145.621 133.215 Q145.621 130.16 143.468 128.447 Q141.339 126.71 137.519 126.71 L133.492 126.71 L133.492 122.868 L137.705 122.868 Q141.154 122.868 142.982 121.502 Q144.811 120.113 144.811 117.521 Q144.811 114.859 142.913 113.447 Q141.038 112.011 137.519 112.011 Q135.598 112.011 133.399 112.428 Q131.2 112.845 128.561 113.724 L128.561 109.558 Q131.223 108.817 133.538 108.447 Q135.876 108.076 137.936 108.076 Q143.26 108.076 146.362 110.507 Q149.464 112.914 149.464 117.035 Q149.464 119.905 147.82 121.896 Q146.177 123.863 143.144 124.627 Z\" fill=\"#000000\" fill-rule=\"evenodd\" fill-opacity=\"1\" /><polyline clip-path=\"url(#clip022)\" style=\"stroke:#009af9; stroke-linecap:butt; stroke-linejoin:round; stroke-width:4; stroke-opacity:1; fill:none\" points=\"\n",
       "  247.59,1445.71 247.59,1445.71 277.794,1445.71 282.828,1445.71 307.999,1445.71 338.204,1445.71 357.221,1445.71 368.408,1445.71 398.613,1445.71 404.206,1445.71 \n",
       "  428.818,1445.71 459.022,1445.71 466.853,1445.71 489.227,1445.71 519.432,1445.71 525.585,1445.71 549.636,1445.71 576.485,1445.71 579.841,1445.71 610.046,1445.71 \n",
       "  640.251,1445.71 646.963,1445.71 670.455,1445.71 686.117,1445.71 700.66,1445.71 730.865,1445.71 761.069,1445.71 768.341,1445.71 791.274,1445.71 795.749,1445.71 \n",
       "  821.479,1445.71 851.683,1445.71 881.888,1445.71 889.719,1445.72 905.381,1445.47 912.093,1445.05 942.297,1439.67 972.502,1428.28 1002.71,1411.55 1011.1,1406.07 \n",
       "  1015.01,1403.41 1032.91,1390.39 1063.12,1365.66 1093.32,1338.08 1123.53,1308.23 1124.64,1307.16 1132.48,1299.1 1153.73,1276.59 1183.93,1243.53 1214.14,1209.4 \n",
       "  1234.28,1186.23 1244.34,1174.44 1253.85,1163.38 1274.55,1138.87 1304.75,1102.89 1334.96,1066.64 1339.99,1060.54 1365.16,1030.26 1375.23,1018.09 1383.06,1008.65 \n",
       "  1395.37,993.853 1425.57,957.516 1426.13,956.909 1455.78,921.329 1469.2,905.412 1485.98,885.353 1512.27,854.36 1516.19,849.653 1546.39,814.282 1555.34,804.035 \n",
       "  1576.6,779.259 1598.41,754.526 1606.8,744.609 1637.01,710.367 1641.48,705.561 1667.21,676.507 1684.55,657.564 1697.41,643.425 1727.62,610.641 1727.62,610.743 \n",
       "  1745.24,591.782 1773.99,561.197 1802.73,531.151 1831.48,500.975 1860.23,472.24 1888.98,442.999 1917.72,415.304 1946.47,386.949 1975.22,360.171 2003.97,333.246 \n",
       "  2032.71,306.185 2061.46,280.744 2090.21,255.176 2118.96,230.025 2147.7,204.662 2176.45,181.047 2205.2,157.166 2233.95,133.006 2262.69,110.637 2291.44,87.9763 \n",
       "  \n",
       "  \"/>\n",
       "<path clip-path=\"url(#clip020)\" d=\"\n",
       "M1987.39 198.898 L2280.54 198.898 L2280.54 95.2176 L1987.39 95.2176  Z\n",
       "  \" fill=\"#ffffff\" fill-rule=\"evenodd\" fill-opacity=\"1\"/>\n",
       "<polyline clip-path=\"url(#clip020)\" style=\"stroke:#000000; stroke-linecap:butt; stroke-linejoin:round; stroke-width:4; stroke-opacity:1; fill:none\" points=\"\n",
       "  1987.39,198.898 2280.54,198.898 2280.54,95.2176 1987.39,95.2176 1987.39,198.898 \n",
       "  \"/>\n",
       "<polyline clip-path=\"url(#clip020)\" style=\"stroke:#009af9; stroke-linecap:butt; stroke-linejoin:round; stroke-width:4; stroke-opacity:1; fill:none\" points=\"\n",
       "  2011.46,147.058 2155.89,147.058 \n",
       "  \"/>\n",
       "<path clip-path=\"url(#clip020)\" d=\"M2193.81 166.745 Q2192 171.375 2190.29 172.787 Q2188.58 174.199 2185.71 174.199 L2182.3 174.199 L2182.3 170.634 L2184.8 170.634 Q2186.56 170.634 2187.53 169.8 Q2188.51 168.967 2189.69 165.865 L2190.45 163.921 L2179.97 138.412 L2184.48 138.412 L2192.58 158.689 L2200.68 138.412 L2205.2 138.412 L2193.81 166.745 Z\" fill=\"#000000\" fill-rule=\"evenodd\" fill-opacity=\"1\" /><path clip-path=\"url(#clip020)\" d=\"M2212.49 160.402 L2220.13 160.402 L2220.13 134.037 L2211.82 135.703 L2211.82 131.444 L2220.08 129.778 L2224.76 129.778 L2224.76 160.402 L2232.4 160.402 L2232.4 164.338 L2212.49 164.338 L2212.49 160.402 Z\" fill=\"#000000\" fill-rule=\"evenodd\" fill-opacity=\"1\" /></svg>\n"
      ]
     },
     "metadata": {},
     "output_type": "display_data"
    }
   ],
   "source": [
    "sort!(res, by = first)\n",
    "fs = getindex.(res, 1)\n",
    "cs = getindex.(res, 3)\n",
    "plot(fs, (cs), yscale = :identity)"
   ]
  },
  {
   "cell_type": "code",
   "execution_count": 7,
   "metadata": {},
   "outputs": [
    {
     "ename": "UndefVarError",
     "evalue": "UndefVarError: res not defined",
     "output_type": "error",
     "traceback": [
      "UndefVarError: res not defined\n"
     ]
    }
   ],
   "source": [
    "res"
   ]
  },
  {
   "cell_type": "code",
   "execution_count": null,
   "metadata": {},
   "outputs": [],
   "source": []
  }
 ],
 "metadata": {
  "kernelspec": {
   "display_name": "Julia 1.7.1",
   "language": "julia",
   "name": "julia-1.7"
  },
  "language_info": {
   "file_extension": ".jl",
   "mimetype": "application/julia",
   "name": "julia",
   "version": "1.7.1"
  },
  "orig_nbformat": 4,
  "vscode": {
   "interpreter": {
    "hash": "b0fa6594d8f4cbf19f97940f81e996739fb7646882a419484c72d19e05852a7e"
   }
  }
 },
 "nbformat": 4,
 "nbformat_minor": 2
}
